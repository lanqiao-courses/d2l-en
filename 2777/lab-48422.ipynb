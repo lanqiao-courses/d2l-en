{
 "cells": [
  {
   "cell_type": "markdown",
   "metadata": {
    "origin_pos": 0
   },
   "source": [
    "## Multilayer Perceptrons"
   ]
  },
  {
   "cell_type": "markdown",
   "metadata": {
    "origin_pos": 0
   },
   "source": [
    "In the previous chapter, we introduced softmax regression, implementing the algorithm from scratch and using high-level APIs,\n",
    "and training classifiers to recognize\n",
    "10 categories of clothing from low-resolution images.\n",
    "Along the way, we learned how to wrangle data,\n",
    "coerce our outputs into a valid probability distribution,\n",
    "apply an appropriate loss function,\n",
    "and minimize it with respect to our model's parameters.\n",
    "Now that we have mastered these mechanics\n",
    "in the context of simple linear models,\n",
    "we can launch our exploration of deep neural networks,\n",
    "the comparatively rich class of models\n",
    "with which this book is primarily concerned."
   ]
  },
  {
   "cell_type": "markdown",
   "metadata": {
    "origin_pos": 0
   },
   "source": [
    "### Hidden Layers"
   ]
  },
  {
   "cell_type": "markdown",
   "metadata": {
    "origin_pos": 0
   },
   "source": [
    "We have described the affine transformation in linear model,\n",
    "which is a linear transformation added by a bias.\n",
    "To begin, recall the model architecture\n",
    "corresponding to our softmax regression example.\n",
    "This model mapped our inputs directly to our outputs\n",
    "via a single affine transformation,\n",
    "followed by a softmax operation.\n",
    "If our labels truly were related\n",
    "to our input data by an affine transformation,\n",
    "then this approach would be sufficient.\n",
    "But linearity in affine transformations is a *strong* assumption."
   ]
  },
  {
   "cell_type": "markdown",
   "metadata": {
    "origin_pos": 0
   },
   "source": [
    "### Linear Models May Go Wrong"
   ]
  },
  {
   "cell_type": "markdown",
   "metadata": {
    "origin_pos": 0
   },
   "source": [
    "For example, linearity implies the *weaker*\n",
    "assumption of *monotonicity*:\n",
    "that any increase in our feature must\n",
    "either always cause an increase in our model's output\n",
    "(if the corresponding weight is positive),\n",
    "or always cause a decrease in our model's output\n",
    "(if the corresponding weight is negative).\n",
    "Sometimes that makes sense.\n",
    "For example, if we were trying to predict\n",
    "whether an individual will repay a loan,\n",
    "we might reasonably imagine that holding all else equal,\n",
    "an applicant with a higher income\n",
    "would always be more likely to repay\n",
    "than one with a lower income.\n",
    "While monotonic, this relationship likely\n",
    "is not linearly associated with the probability of\n",
    "repayment. An increase in income from 0 to 50 thousand\n",
    "likely corresponds to a bigger increase\n",
    "in likelihood of repayment\n",
    "than an increase from 1 million to 1.05 million.\n",
    "One way to handle this might be to preprocess\n",
    "our data such that linearity becomes more plausible,\n",
    "say, by using the logarithm of income as our feature."
   ]
  },
  {
   "cell_type": "markdown",
   "metadata": {
    "origin_pos": 0
   },
   "source": [
    "Note that we can easily come up with examples\n",
    "that violate monotonicity.\n",
    "Say for example that we want to predict probability\n",
    "of death based on body temperature.\n",
    "For individuals with a body temperature\n",
    "above 37°C (98.6°F),\n",
    "higher temperatures indicate greater risk.\n",
    "However, for individuals with body temperatures\n",
    "below 37° C, higher temperatures indicate lower risk!\n",
    "In this case too, we might resolve the problem\n",
    "with some clever preprocessing.\n",
    "Namely, we might use the distance from 37°C as our feature."
   ]
  },
  {
   "cell_type": "markdown",
   "metadata": {
    "origin_pos": 0
   },
   "source": [
    "But what about classifying images of cats and dogs?\n",
    "Should increasing the intensity\n",
    "of the pixel at location (13, 17)\n",
    "always increase (or always decrease)\n",
    "the likelihood that the image depicts a dog?\n",
    "Reliance on a linear model corresponds to the implicit\n",
    "assumption that the only requirement\n",
    "for differentiating cats vs. dogs is to assess\n",
    "the brightness of individual pixels.\n",
    "This approach is doomed to fail in a world\n",
    "where inverting an image preserves the category."
   ]
  },
  {
   "cell_type": "markdown",
   "metadata": {
    "origin_pos": 0
   },
   "source": [
    "And yet despite the apparent absurdity of linearity here,\n",
    "as compared with our previous examples,\n",
    "it is less obvious that we could address the problem\n",
    "with a simple preprocessing fix.\n",
    "That is because the significance of any pixel\n",
    "depends in complex ways on its context\n",
    "(the values of the surrounding pixels).\n",
    "While there might exist a representation of our data\n",
    "that would take into account\n",
    "the relevant interactions among our features,\n",
    "on top of which a linear model would be suitable,\n",
    "we simply do not know how to calculate it by hand.\n",
    "With deep neural networks, we used observational data\n",
    "to jointly learn both a representation via hidden layers\n",
    "and a linear predictor that acts upon that representation."
   ]
  },
  {
   "cell_type": "markdown",
   "metadata": {
    "origin_pos": 0
   },
   "source": [
    "### Incorporating Hidden Layers"
   ]
  },
  {
   "cell_type": "markdown",
   "metadata": {
    "origin_pos": 0
   },
   "source": [
    "We can overcome these limitations of linear models\n",
    "and handle a more general class of functions\n",
    "by incorporating one or more hidden layers.\n",
    "The easiest way to do this is to stack\n",
    "many fully-connected layers on top of each other.\n",
    "Each layer feeds into the layer above it,\n",
    "until we generate outputs.\n",
    "We can think of the first $L-1$ layers\n",
    "as our representation and the final layer\n",
    "as our linear predictor.\n",
    "This architecture is commonly called\n",
    "a *multilayer perceptron*,\n",
    "often abbreviated as *MLP*.\n",
    "Below, we depict an MLP diagrammatically."
   ]
  },
  {
   "cell_type": "markdown",
   "metadata": {
    "origin_pos": 0
   },
   "source": [
    "![An MLP with a hidden layer of 5 hidden units.](https://doc.shiyanlou.com/courses/2777/246442/1e94f012e35997dcaab4a34e254615dc-1)"
   ]
  },
  {
   "cell_type": "markdown",
   "metadata": {
    "origin_pos": 0
   },
   "source": [
    "This MLP has 4 inputs, 3 outputs,\n",
    "and its hidden layer contains 5 hidden units.\n",
    "Since the input layer does not involve any calculations,\n",
    "producing outputs with this network\n",
    "requires implementing the computations\n",
    "for both the hidden and output layers;\n",
    "thus, the number of layers in this MLP is 2.\n",
    "Note that these layers are both fully connected.\n",
    "Every input influences every neuron in the hidden layer,\n",
    "and each of these in turn influences\n",
    "every neuron in the output layer."
   ]
  },
  {
   "cell_type": "markdown",
   "metadata": {
    "origin_pos": 0
   },
   "source": [
    "### From Linear to Nonlinear"
   ]
  },
  {
   "cell_type": "markdown",
   "metadata": {
    "origin_pos": 0
   },
   "source": [
    "As before, by the matrix $\\mathbf{X} \\in \\mathbb{R}^{n \\times d}$,\n",
    "we denote a minibatch of $n$ examples where each example has $d$ inputs (features).\n",
    "For a one-hidden-layer MLP whose hidden layer has $h$ hidden units,\n",
    "denote by $\\mathbf{H} \\in \\mathbb{R}^{n \\times h}$\n",
    "the outputs of the hidden layer.\n",
    "Here, $\\mathbf{H}$ is also known as a *hidden-layer variable* or a *hidden variable*.\n",
    "Since the hidden and output layers are both fully connected,\n",
    "we have hidden-layer weights $\\mathbf{W}_1 \\in \\mathbb{R}^{d \\times h}$ and biases $\\mathbf{b}_1 \\in \\mathbb{R}^{1 \\times h}$\n",
    "and output-layer weights $\\mathbf{W}_2 \\in \\mathbb{R}^{h \\times q}$ and biases $\\mathbf{b}_2 \\in \\mathbb{R}^{1 \\times q}$.\n",
    "Formally, we calculate the outputs $\\mathbf{X} \\in \\mathbb{R}^{n \\times q}$\n",
    "of the one-hidden-layer MLP as follows:"
   ]
  },
  {
   "cell_type": "markdown",
   "metadata": {
    "origin_pos": 0
   },
   "source": [
    "$$\n",
    "\\begin{aligned}\n",
    "    \\mathbf{H} & = \\mathbf{X} \\mathbf{W}_1 + \\mathbf{b}_1, \\\\\n",
    "    \\mathbf{O} & = \\mathbf{H}\\mathbf{W}_2 + \\mathbf{b}_2.\n",
    "\\end{aligned}\n",
    "$$"
   ]
  },
  {
   "cell_type": "markdown",
   "metadata": {
    "origin_pos": 0
   },
   "source": [
    "Note that after adding the hidden layer,\n",
    "our model now requires us to track and update\n",
    "additional sets of parameters.\n",
    "So what have we gained in exchange?\n",
    "You might be surprised to find out\n",
    "that---in the model defined above---*we\n",
    "gain nothing for our troubles*!\n",
    "The reason is plain.\n",
    "The hidden units above are given by\n",
    "an affine function of the inputs,\n",
    "and the outputs (pre-softmax) are just\n",
    "an affine function of the hidden units.\n",
    "An affine function of an affine function\n",
    "is itself an affine function.\n",
    "Moreover, our linear model was already\n",
    "capable of representing any affine function."
   ]
  },
  {
   "cell_type": "markdown",
   "metadata": {
    "origin_pos": 0
   },
   "source": [
    "We can view the equivalence formally\n",
    "by proving that for any values of the weights,\n",
    "we can just collapse out the hidden layer,\n",
    "yielding an equivalent single-layer model with parameters\n",
    "$\\mathbf{W} = \\mathbf{W}_1\\mathbf{W}_2$ and $\\mathbf{b} = \\mathbf{b}_1 \\mathbf{W}_2 + \\mathbf{b}_2$:"
   ]
  },
  {
   "cell_type": "markdown",
   "metadata": {
    "origin_pos": 0
   },
   "source": [
    "$$\n",
    "\\mathbf{O} = (\\mathbf{X} \\mathbf{W}_1 + \\mathbf{b}_1)\\mathbf{W}_2 + \\mathbf{b}_2 = \\mathbf{X} \\mathbf{W}_1\\mathbf{W}_2 + \\mathbf{b}_1 \\mathbf{W}_2 + \\mathbf{b}_2 = \\mathbf{X} \\mathbf{W} + \\mathbf{b}.\n",
    "$$"
   ]
  },
  {
   "cell_type": "markdown",
   "metadata": {
    "origin_pos": 0
   },
   "source": [
    "In order to realize the potential of multilayer architectures,\n",
    "we need one more key ingredient: a\n",
    "nonlinear *activation function* $\\sigma$\n",
    "to be applied to each hidden unit\n",
    "following the affine transformation.\n",
    "In general, with activation functions in place,\n",
    "it is no longer possible to collapse our MLP into a linear model:"
   ]
  },
  {
   "cell_type": "markdown",
   "metadata": {
    "origin_pos": 0
   },
   "source": [
    "$$\n",
    "\\begin{aligned}\n",
    "    \\mathbf{H} & = \\sigma(\\mathbf{X} \\mathbf{W}_1 + \\mathbf{b}_1), \\\\\n",
    "    \\mathbf{O} & = \\mathbf{H}\\mathbf{W}_2 + \\mathbf{b}_2.\\\\\n",
    "\\end{aligned}\n",
    "$$"
   ]
  },
  {
   "cell_type": "markdown",
   "metadata": {
    "origin_pos": 0
   },
   "source": [
    "Since each row in $\\mathbf{X}$ corresponds to an example in the minibatch,\n",
    "with some abuse of notation, we define the nonlinearity\n",
    "$\\sigma$ to apply to its inputs in a rowwise fashion,\n",
    "i.e., one example at a time.\n",
    "Often, as in this section, the activation functions\n",
    "that we apply to hidden layers are not merely rowwise,\n",
    "but elementwise.\n",
    "That means that after computing the linear portion of the layer,\n",
    "we can calculate each activation result\n",
    "without looking at the values taken by the other hidden units.\n",
    "This is true for most activation functions."
   ]
  },
  {
   "cell_type": "markdown",
   "metadata": {
    "origin_pos": 0
   },
   "source": [
    "To build more general MLPs, we can continue stacking\n",
    "such hidden layers,\n",
    "e.g., $\\mathbf{H}_1 = \\sigma_1(\\mathbf{X} \\mathbf{W}_1 + \\mathbf{b}_1)$\n",
    "and $\\mathbf{H}_2 = \\sigma_2(\\mathbf{H}_1 \\mathbf{W}_2 + \\mathbf{b}_2)$,\n",
    "one atop another, yielding ever more expressive models."
   ]
  },
  {
   "cell_type": "markdown",
   "metadata": {
    "origin_pos": 0
   },
   "source": [
    "### Universal Approximators"
   ]
  },
  {
   "cell_type": "markdown",
   "metadata": {
    "origin_pos": 0
   },
   "source": [
    "MLPs can capture complex interactions\n",
    "among our inputs via their hidden neurons,\n",
    "which depend on the values of each of the inputs.\n",
    "We can easily design hidden nodes\n",
    "to perform arbitrary computation,\n",
    "for instance, basic logic operations on a pair of inputs.\n",
    "Moreover, for certain choices of the activation function,\n",
    "it is widely known that MLPs are universal approximators.\n",
    "Even with a single-hidden-layer network,\n",
    "given enough nodes (possibly absurdly many),\n",
    "and the right set of weights,\n",
    "we can model any function,\n",
    "though actually learning that function is the hard part.\n",
    "You might think of your neural network\n",
    "as being a bit like the C programming language.\n",
    "The language, like any other modern language,\n",
    "is capable of expressing any computable program.\n",
    "But actually coming up with a program\n",
    "that meets your specifications is the hard part."
   ]
  },
  {
   "cell_type": "markdown",
   "metadata": {
    "origin_pos": 0
   },
   "source": [
    "Moreover, just because a single-hidden-layer network\n",
    "*can* learn any function\n",
    "does not mean that you should try\n",
    "to solve all of your problems\n",
    "with single-hidden-layer networks.\n",
    "In fact, we can approximate many functions\n",
    "much more compactly by using deeper (vs. wider) networks.\n",
    "We will touch upon more rigorous arguments in subsequent chapters."
   ]
  },
  {
   "cell_type": "code",
   "execution_count": null,
   "metadata": {
    "origin_pos": 2,
    "tab": [
     "pytorch"
    ]
   },
   "outputs": [],
   "source": [
    "from matplotlib import pyplot as plt\n",
    "%matplotlib inline\n",
    "from IPython import display\n",
    "import torch"
   ]
  },
  {
   "cell_type": "code",
   "execution_count": null,
   "metadata": {},
   "outputs": [],
   "source": []
  },
  {
   "cell_type": "markdown",
   "metadata": {
    "origin_pos": 4
   },
   "source": [
    "### Activation Functions"
   ]
  },
  {
   "cell_type": "markdown",
   "metadata": {
    "origin_pos": 4
   },
   "source": [
    "Activation functions decide whether a neuron should be activated or not by\n",
    "calculating the weighted sum and further adding bias with it.\n",
    "They are differentiable operators to transform input signals to outputs,\n",
    "while most of them add non-linearity.\n",
    "Because activation functions are fundamental to deep learning,\n",
    "let us briefly survey some common activation functions."
   ]
  },
  {
   "cell_type": "markdown",
   "metadata": {},
   "source": [
    "Before we introduce the activation function, we define some functions for visualization. \n",
    "Because all these functions we have already used in the previous section, so we can use them directly here rather than write again."
   ]
  },
  {
   "cell_type": "code",
   "execution_count": null,
   "metadata": {},
   "outputs": [],
   "source": [
    "def use_svg_display():\n",
    "    \"\"\"Use the svg format to display a plot in Jupyter.\"\"\"\n",
    "    display.set_matplotlib_formats('svg')\n",
    "\n",
    "def set_axes(axes, xlabel, ylabel, xlim, ylim, xscale, yscale, legend):\n",
    "    \"\"\"Set the axes for matplotlib.\"\"\"\n",
    "    axes.set_xlabel(xlabel)\n",
    "    axes.set_ylabel(ylabel)\n",
    "    axes.set_xscale(xscale)\n",
    "    axes.set_yscale(yscale)\n",
    "    axes.set_xlim(xlim)\n",
    "    axes.set_ylim(ylim)\n",
    "    if legend:\n",
    "        axes.legend(legend)\n",
    "    axes.grid()\n",
    "\n",
    "def set_figsize(figsize=(3.5, 2.5)):  #@save\n",
    "    \"\"\"Set the figure size for matplotlib.\"\"\"\n",
    "    use_svg_display()\n",
    "    plt.rcParams['figure.figsize'] = figsize\n",
    "\n",
    "def plot(X, Y=None, xlabel=None, ylabel=None, legend=None, xlim=None,\n",
    "         ylim=None, xscale='linear', yscale='linear',\n",
    "         fmts=('-', 'm--', 'g-.', 'r:'), figsize=(3.5, 2.5), axes=None):\n",
    "    \"\"\"Plot data instances.\"\"\"\n",
    "    if legend is None:\n",
    "        legend = []\n",
    "\n",
    "    set_figsize(figsize)\n",
    "    axes = axes if axes else plt.gca()\n",
    "\n",
    "    # Return True if `X` (tensor or list) has 1 axis\n",
    "    def has_one_axis(X):\n",
    "        return (hasattr(X, \"ndim\") and X.ndim == 1 or isinstance(X, list)\n",
    "                and not hasattr(X[0], \"__len__\"))\n",
    "\n",
    "    if has_one_axis(X):\n",
    "        X = [X]\n",
    "    if Y is None:\n",
    "        X, Y = [[]] * len(X), X\n",
    "    elif has_one_axis(Y):\n",
    "        Y = [Y]\n",
    "    if len(X) != len(Y):\n",
    "        X = X * len(Y)\n",
    "    axes.cla()\n",
    "    for x, y, fmt in zip(X, Y, fmts):\n",
    "        if len(x):\n",
    "            axes.plot(x, y, fmt)\n",
    "        else:\n",
    "            axes.plot(y, fmt)\n",
    "    set_axes(axes, xlabel, ylabel, xlim, ylim, xscale, yscale, legend)"
   ]
  },
  {
   "cell_type": "markdown",
   "metadata": {
    "origin_pos": 4
   },
   "source": [
    "### ReLU Function"
   ]
  },
  {
   "cell_type": "markdown",
   "metadata": {
    "origin_pos": 4
   },
   "source": [
    "The most popular choice,\n",
    "due to both simplicity of implementation and\n",
    "its good performance on a variety of predictive tasks,\n",
    "is the *rectified linear unit* (*ReLU*).\n",
    "ReLU provides a very simple nonlinear transformation.\n",
    "Given an element $x$, the function is defined\n",
    "as the maximum of that element and $0$:"
   ]
  },
  {
   "cell_type": "markdown",
   "metadata": {
    "origin_pos": 4
   },
   "source": [
    "$$\\operatorname{ReLU}(x) = \\max(x, 0).$$"
   ]
  },
  {
   "cell_type": "markdown",
   "metadata": {
    "origin_pos": 4
   },
   "source": [
    "Informally, the ReLU function retains only positive\n",
    "elements and discards all negative elements\n",
    "by setting the corresponding activations to 0.\n",
    "To gain some intuition, we can plot the function.\n",
    "As you can see, the activation function is piecewise linear."
   ]
  },
  {
   "cell_type": "code",
   "execution_count": null,
   "metadata": {
    "origin_pos": 6,
    "tab": [
     "pytorch"
    ]
   },
   "outputs": [],
   "source": [
    "x = torch.arange(-8.0, 8.0, 0.1, requires_grad=True)\n",
    "y = torch.relu(x)\n",
    "plot(x.detach(), y.detach(), 'x', 'relu(x)', figsize=(5, 2.5))"
   ]
  },
  {
   "cell_type": "code",
   "execution_count": null,
   "metadata": {},
   "outputs": [],
   "source": []
  },
  {
   "cell_type": "markdown",
   "metadata": {
    "origin_pos": 8
   },
   "source": [
    "When the input is negative,\n",
    "the derivative of the ReLU function is 0,\n",
    "and when the input is positive,\n",
    "the derivative of the ReLU function is 1.\n",
    "Note that the ReLU function is not differentiable\n",
    "when the input takes value precisely equal to 0.\n",
    "In these cases, we default to the left-hand-side\n",
    "derivative and say that the derivative is 0 when the input is 0.\n",
    "We can get away with this because\n",
    "the input may never actually be zero.\n",
    "There is an old adage that if subtle boundary conditions matter,\n",
    "we are probably doing (*real*) mathematics, not engineering.\n",
    "That conventional wisdom may apply here.\n",
    "We plot the derivative of the ReLU function plotted below.\n"
   ]
  },
  {
   "cell_type": "code",
   "execution_count": null,
   "metadata": {
    "origin_pos": 10,
    "tab": [
     "pytorch"
    ]
   },
   "outputs": [],
   "source": [
    "y.backward(torch.ones_like(x), retain_graph=True)\n",
    "plot(x.detach(), x.grad, 'x', 'grad of relu', figsize=(5, 2.5))"
   ]
  },
  {
   "cell_type": "code",
   "execution_count": null,
   "metadata": {},
   "outputs": [],
   "source": []
  },
  {
   "cell_type": "markdown",
   "metadata": {
    "origin_pos": 12
   },
   "source": [
    "The reason for using ReLU is that\n",
    "its derivatives are particularly well behaved:\n",
    "either they vanish or they just let the argument through.\n",
    "This makes optimization better behaved\n",
    "and it mitigated the well-documented problem\n",
    "of vanishing gradients that plagued\n",
    "previous versions of neural networks (more on this later)."
   ]
  },
  {
   "cell_type": "markdown",
   "metadata": {
    "origin_pos": 12
   },
   "source": [
    "Note that there are many variants to the ReLU function,\n",
    "including the *parameterized ReLU* (*pReLU*) function (`He.Zhang.Ren.ea.2015`).\n",
    "This variation adds a linear term to ReLU,\n",
    "so some information still gets through,\n",
    "even when the argument is negative:"
   ]
  },
  {
   "cell_type": "markdown",
   "metadata": {
    "origin_pos": 12
   },
   "source": [
    "$$\\operatorname{pReLU}(x) = \\max(0, x) + \\alpha \\min(0, x).$$"
   ]
  },
  {
   "cell_type": "markdown",
   "metadata": {
    "origin_pos": 12
   },
   "source": [
    "### Sigmoid Function"
   ]
  },
  {
   "cell_type": "markdown",
   "metadata": {
    "origin_pos": 12
   },
   "source": [
    "The *sigmoid function* transforms its inputs,\n",
    "for which values lie in the domain $\\mathbb{R}$,\n",
    "to outputs that lie on the interval (0, 1).\n",
    "For that reason, the sigmoid is\n",
    "often called a *squashing function*:\n",
    "it squashes any input in the range (-inf, inf)\n",
    "to some value in the range (0, 1):"
   ]
  },
  {
   "cell_type": "markdown",
   "metadata": {
    "origin_pos": 12
   },
   "source": [
    "$$\\operatorname{sigmoid}(x) = \\frac{1}{1 + \\exp(-x)}.$$"
   ]
  },
  {
   "cell_type": "markdown",
   "metadata": {
    "origin_pos": 12
   },
   "source": [
    "In the earliest neural networks, scientists\n",
    "were interested in modeling biological neurons\n",
    "which either *fire* or *do not fire*.\n",
    "Thus the pioneers of this field,\n",
    "going all the way back to McCulloch and Pitts,\n",
    "the inventors of the artificial neuron,\n",
    "focused on thresholding units.\n",
    "A thresholding activation takes value 0\n",
    "when its input is below some threshold\n",
    "and value 1 when the input exceeds the threshold."
   ]
  },
  {
   "cell_type": "markdown",
   "metadata": {
    "origin_pos": 12
   },
   "source": [
    "When attention shifted to gradient based learning,\n",
    "the sigmoid function was a natural choice\n",
    "because it is a smooth, differentiable\n",
    "approximation to a thresholding unit.\n",
    "Sigmoids are still widely used as\n",
    "activation functions on the output units,\n",
    "when we want to interpret the outputs as probabilities\n",
    "for binary classification problems\n",
    "(you can think of the sigmoid as a special case of the softmax).\n",
    "However, the sigmoid has mostly been replaced\n",
    "by the simpler and more easily trainable ReLU\n",
    "for most use in hidden layers.\n",
    "In later chapters on recurrent neural networks,\n",
    "we will describe architectures that leverage sigmoid units\n",
    "to control the flow of information across time."
   ]
  },
  {
   "cell_type": "markdown",
   "metadata": {
    "origin_pos": 12
   },
   "source": [
    "Below, we plot the sigmoid function.\n",
    "Note that when the input is close to 0,\n",
    "the sigmoid function approaches\n",
    "a linear transformation."
   ]
  },
  {
   "cell_type": "code",
   "execution_count": null,
   "metadata": {
    "origin_pos": 14,
    "tab": [
     "pytorch"
    ]
   },
   "outputs": [],
   "source": [
    "x = torch.arange(-8.0, 8.0, 0.1, requires_grad=True)\n",
    "y = torch.sigmoid(x)\n",
    "plot(x.detach(), y.detach(), 'x', 'sigmoid(x)', figsize=(5, 2.5))"
   ]
  },
  {
   "cell_type": "code",
   "execution_count": null,
   "metadata": {},
   "outputs": [],
   "source": []
  },
  {
   "cell_type": "markdown",
   "metadata": {
    "origin_pos": 16
   },
   "source": [
    "The derivative of the sigmoid function is given by the following equation:"
   ]
  },
  {
   "cell_type": "markdown",
   "metadata": {
    "origin_pos": 16
   },
   "source": [
    "$$\\frac{d}{dx} \\operatorname{sigmoid}(x) = \\frac{\\exp(-x)}{(1 + \\exp(-x))^2} = \\operatorname{sigmoid}(x)\\left(1-\\operatorname{sigmoid}(x)\\right).$$"
   ]
  },
  {
   "cell_type": "markdown",
   "metadata": {
    "origin_pos": 16
   },
   "source": [
    "The derivative of the sigmoid function is plotted below.\n",
    "Note that when the input is 0,\n",
    "the derivative of the sigmoid function\n",
    "reaches a maximum of 0.25.\n",
    "As the input diverges from 0 in either direction,\n",
    "the derivative approaches 0."
   ]
  },
  {
   "cell_type": "code",
   "execution_count": null,
   "metadata": {
    "origin_pos": 18,
    "tab": [
     "pytorch"
    ]
   },
   "outputs": [],
   "source": [
    "y.backward(torch.ones_like(x),retain_graph=True)\n",
    "plot(x.detach(), x.grad, 'x', 'grad of sigmoid', figsize=(5, 2.5))"
   ]
  },
  {
   "cell_type": "code",
   "execution_count": null,
   "metadata": {},
   "outputs": [],
   "source": []
  },
  {
   "cell_type": "markdown",
   "metadata": {
    "origin_pos": 20
   },
   "source": [
    "### Tanh Function"
   ]
  },
  {
   "cell_type": "markdown",
   "metadata": {
    "origin_pos": 20
   },
   "source": [
    "Like the sigmoid function, the tanh (hyperbolic tangent)\n",
    "function also squashes its inputs,\n",
    "transforming them into elements on the interval between -1 and 1:"
   ]
  },
  {
   "cell_type": "markdown",
   "metadata": {
    "origin_pos": 20
   },
   "source": [
    "$$\\operatorname{tanh}(x) = \\frac{1 - \\exp(-2x)}{1 + \\exp(-2x)}.$$"
   ]
  },
  {
   "cell_type": "markdown",
   "metadata": {
    "origin_pos": 20
   },
   "source": [
    "We plot the tanh function below.\n",
    "Note that as the input nears 0, the tanh function approaches a linear transformation. Although the shape of the function is similar to that of the sigmoid function, the tanh function exhibits point symmetry about the origin of the coordinate system."
   ]
  },
  {
   "cell_type": "code",
   "execution_count": null,
   "metadata": {
    "origin_pos": 22,
    "tab": [
     "pytorch"
    ]
   },
   "outputs": [],
   "source": [
    "x = torch.arange(-8.0, 8.0, 0.1, requires_grad=True)\n",
    "y = torch.tanh(x)\n",
    "plot(x.detach(), y.detach(), 'x', 'tanh(x)', figsize=(5, 2.5))"
   ]
  },
  {
   "cell_type": "code",
   "execution_count": null,
   "metadata": {},
   "outputs": [],
   "source": []
  },
  {
   "cell_type": "markdown",
   "metadata": {
    "origin_pos": 24
   },
   "source": [
    "The derivative of the tanh function is:"
   ]
  },
  {
   "cell_type": "markdown",
   "metadata": {
    "origin_pos": 24
   },
   "source": [
    "$$\\frac{d}{dx} \\operatorname{tanh}(x) = 1 - \\operatorname{tanh}^2(x).$$"
   ]
  },
  {
   "cell_type": "markdown",
   "metadata": {
    "origin_pos": 24
   },
   "source": [
    "The derivative of tanh function is plotted below.\n",
    "As the input nears 0,\n",
    "the derivative of the tanh function approaches a maximum of 1.\n",
    "And as we saw with the sigmoid function,\n",
    "as the input moves away from 0 in either direction,\n",
    "the derivative of the tanh function approaches 0."
   ]
  },
  {
   "cell_type": "code",
   "execution_count": null,
   "metadata": {
    "origin_pos": 26,
    "tab": [
     "pytorch"
    ]
   },
   "outputs": [],
   "source": [
    "y.backward(torch.ones_like(x),retain_graph=True)\n",
    "plot(x.detach(), x.grad, 'x', 'grad of tanh', figsize=(5, 2.5))"
   ]
  },
  {
   "cell_type": "code",
   "execution_count": null,
   "metadata": {},
   "outputs": [],
   "source": []
  },
  {
   "cell_type": "markdown",
   "metadata": {
    "origin_pos": 28
   },
   "source": [
    "In summary, we now know how to incorporate nonlinearities\n",
    "to build expressive multilayer neural network architectures.\n",
    "As a side note, your knowledge already\n",
    "puts you in command of a similar toolkit\n",
    "to a practitioner circa 1990.\n",
    "In some ways, you have an advantage\n",
    "over anyone working in the 1990s,\n",
    "because you can leverage powerful\n",
    "open-source deep learning frameworks\n",
    "to build models rapidly, using only a few lines of code.\n",
    "Previously, training these networks\n",
    "required researchers to code up\n",
    "thousands of lines of C and Fortran."
   ]
  },
  {
   "cell_type": "markdown",
   "metadata": {
    "origin_pos": 28
   },
   "source": [
    "### Summary"
   ]
  },
  {
   "cell_type": "markdown",
   "metadata": {
    "origin_pos": 28
   },
   "source": [
    "* MLP adds one or multiple fully-connected hidden layers between the output and input layers and transforms the output of the hidden layer via an activation function.\n",
    "* Commonly-used activation functions include the ReLU function, the sigmoid function, and the tanh function."
   ]
  },
  {
   "cell_type": "markdown",
   "metadata": {
    "origin_pos": 28
   },
   "source": [
    "### Exercises"
   ]
  },
  {
   "cell_type": "markdown",
   "metadata": {
    "origin_pos": 28
   },
   "source": [
    "1. Compute the derivative of the pReLU activation function.\n",
    "1. Show that an MLP using only ReLU (or pReLU) constructs a continuous piecewise linear function.\n",
    "1. Show that $\\operatorname{tanh}(x) + 1 = 2 \\operatorname{sigmoid}(2x)$.\n",
    "1. Assume that we have a nonlinearity that applies to one minibatch at a time. What kinds of problems do you expect this to cause?"
   ]
  },
  {
   "cell_type": "markdown",
   "metadata": {
    "origin_pos": 30,
    "tab": [
     "pytorch"
    ]
   },
   "source": [
    "[Discussions](https://discuss.d2l.ai/t/91)\n"
   ]
  }
 ],
 "metadata": {
  "kernelspec": {
   "display_name": "Python 3",
   "language": "python",
   "name": "python3"
  },
  "language_info": {
   "codemirror_mode": {
    "name": "ipython",
    "version": 3
   },
   "file_extension": ".py",
   "mimetype": "text/x-python",
   "name": "python",
   "nbconvert_exporter": "python",
   "pygments_lexer": "ipython3",
   "version": "3.7.1"
  }
 },
 "nbformat": 4,
 "nbformat_minor": 4
}

{
 "cells": [
  {
   "cell_type": "markdown",
   "metadata": {
    "origin_pos": 0
   },
   "source": [
    "## Model Selection, Underfitting and Overfitting"
   ]
  },
  {
   "cell_type": "markdown",
   "metadata": {
    "origin_pos": 0
   },
   "source": [
    "As machine learning scientists,\n",
    "our goal is to discover *patterns*.\n",
    "But how can we be sure that we have\n",
    "truly discovered a *general* pattern\n",
    "and not simply memorized our data.\n",
    "For example, imagine that we wanted to hunt\n",
    "for patterns among genetic markers\n",
    "linking patients to their dementia status,\n",
    "(let the labels be drawn from the set\n",
    "{*dementia*, *mild cognitive impairment*, *healthy*}).\n",
    "Because each person's genes identify them uniquely\n",
    "(ignoring identical siblings),\n",
    "it is possible to memorize the entire dataset."
   ]
  },
  {
   "cell_type": "markdown",
   "metadata": {
    "origin_pos": 0
   },
   "source": [
    "We do not want our model to say\n",
    "*\"That's Bob! I remember him! He has dementia!*\n",
    "The reason why is simple.\n",
    "When we deploy the model in the future,\n",
    "we will encounter patients\n",
    "that the model has never seen before.\n",
    "Our predictions will only be useful\n",
    "if our model has truly discovered a *general* pattern."
   ]
  },
  {
   "cell_type": "markdown",
   "metadata": {
    "origin_pos": 0
   },
   "source": [
    "To recapitulate more formally,\n",
    "our goal is to discover patterns\n",
    "that capture regularities in the underlying population\n",
    "from which our training set was drawn.\n",
    "If we are successful in this endeavor,\n",
    "then we could successfully assess risk\n",
    "even for individuals that we have never encountered before.\n",
    "This problem---how to discover patterns that *generalize*---is\n",
    "the fundamental problem of machine learning."
   ]
  },
  {
   "cell_type": "markdown",
   "metadata": {
    "origin_pos": 0
   },
   "source": [
    "The danger is that when we train models,\n",
    "we access just a small sample of data.\n",
    "The largest public image datasets contain\n",
    "roughly one million images.\n",
    "More often, we must learn from only thousands\n",
    "or tens of thousands of data points.\n",
    "In a large hospital system, we might access\n",
    "hundreds of thousands of medical records.\n",
    "When working with finite samples, we run the risk\n",
    "that we might discover *apparent* associations\n",
    "that turn out not to hold up when we collect more data."
   ]
  },
  {
   "cell_type": "markdown",
   "metadata": {
    "origin_pos": 0
   },
   "source": [
    "The phenomena of fitting our training data\n",
    "more closely than we fit the underlying distribution is called overfitting, and the techniques used to combat overfitting are called regularization.\n",
    "In the previous sections, you might have observed\n",
    "this effect while experimenting with the Fashion-MNIST dataset.\n",
    "If you altered the model structure or the hyper-parameters during the experiment, you might have noticed that with enough nodes, layers, and training epochs, the model can eventually reach perfect accuracy on the training set, even as the accuracy on test data deteriorates."
   ]
  },
  {
   "cell_type": "markdown",
   "metadata": {
    "origin_pos": 0
   },
   "source": [
    "### Training Error and Generalization Error"
   ]
  },
  {
   "cell_type": "markdown",
   "metadata": {
    "origin_pos": 0
   },
   "source": [
    "In order to discuss this phenomenon more formally,\n",
    "we need to differentiate between *training error* and *generalization error*.\n",
    "The training error is the error of our model\n",
    "as calculated on the training dataset,\n",
    "while generalization error is the expectation of our model's error\n",
    "were we to apply it to an infinite stream of additional data points\n",
    "drawn from the same underlying data distribution as our original sample."
   ]
  },
  {
   "cell_type": "markdown",
   "metadata": {
    "origin_pos": 0
   },
   "source": [
    "Problematically, *we can never calculate the generalization error exactly*.\n",
    "That is because the stream of infinite data is an imaginary object.\n",
    "In practice, we must *estimate* the generalization error\n",
    "by applying our model to an independent test set\n",
    "constituted of a random selection of data points\n",
    "that were withheld from our training set."
   ]
  },
  {
   "cell_type": "markdown",
   "metadata": {
    "origin_pos": 0
   },
   "source": [
    "The following three thought experiments\n",
    "will help illustrate this situation better.\n",
    "Consider a college student trying to prepare for her final exam.\n",
    "A diligent student will strive to practice well\n",
    "and test her abilities using exams from previous years.\n",
    "Nonetheless, doing well on past exams is no guarantee\n",
    "that she will excel when it matters.\n",
    "For instance, the student might try to prepare\n",
    "by rote learning the answers to the exam questions.\n",
    "This requires the student to memorize many things.\n",
    "She might even remember the answers for past exams perfectly.\n",
    "Another student might prepare by trying to understand\n",
    "the reasons for giving certain answers.\n",
    "In most cases, the latter student will do much better."
   ]
  },
  {
   "cell_type": "markdown",
   "metadata": {
    "origin_pos": 0
   },
   "source": [
    "Likewise, consider a model that simply uses a lookup table to answer questions. If the set of allowable inputs is discrete and reasonably small, then perhaps after viewing *many* training examples, this approach would perform well. Still this model has no ability to do better than random guessing when faced with examples that it has never seen before.\n",
    "In reality the input spaces are far too large to memorize the answers corresponding to every conceivable input. For example, consider the black and white $28\\times28 \\ (784)$ images. If each pixel can take one among $256$ grayscale values, then there are $256^{784}$ possible images. That means that there are far more low-res grayscale thumbnail-sized images than there are atoms in the universe. Even if we could encounter this data, we could never afford to store the lookup table."
   ]
  },
  {
   "cell_type": "markdown",
   "metadata": {
    "origin_pos": 0
   },
   "source": [
    "Last, consider the problem of trying\n",
    "to classify the outcomes of coin tosses (class 0: heads, class 1: tails)\n",
    "based on some contextual features that might be available.\n",
    "No matter what algorithm we come up with,\n",
    "the generalization error will always be $\\frac{1}{2}$.\n",
    "However, for most algorithms,\n",
    "we should expect our training error to be considerably lower,\n",
    "depending on the luck of the draw,\n",
    "even if we did not have any features!\n",
    "Consider the dataset {0, 1, 1, 1, 0, 1}.\n",
    "Our feature-less algorithm would have to fall back on always predicting\n",
    "the *majority class*, which appears from our limited sample to be *1*.\n",
    "In this case, the model that always predicts class 1\n",
    "will incur an error of $\\frac{1}{3}$,\n",
    "considerably better than our generalization error.\n",
    "As we increase the amount of data,\n",
    "the probability that the fraction of heads\n",
    "will deviate significantly from $\\frac{1}{2}$ diminishes,\n",
    "and our training error would come to match the generalization error."
   ]
  },
  {
   "cell_type": "markdown",
   "metadata": {
    "origin_pos": 0
   },
   "source": [
    "### Statistical Learning Theory"
   ]
  },
  {
   "cell_type": "markdown",
   "metadata": {
    "origin_pos": 0
   },
   "source": [
    "Since generalization is the fundamental problem in machine learning,\n",
    "you might not be surprised to learn\n",
    "that many mathematicians and theorists have dedicated their lives\n",
    "to developing formal theories to describe this phenomenon.\n",
    "In their [eponymous theorem](https://en.wikipedia.org/wiki/Glivenko%E2%80%93Cantelli_theorem), Glivenko and Cantelli\n",
    "derived the rate at which the training error\n",
    "converges to the generalization error.\n",
    "In a series of seminal papers, [Vapnik and Chervonenkis](https://en.wikipedia.org/wiki/Vapnik%E2%80%93Chervonenkis_theory)\n",
    "extended this theory to more general classes of functions.\n",
    "This work laid the foundations of [Statistical Learning Theory](https://en.wikipedia.org/wiki/Statistical_learning_theory)."
   ]
  },
  {
   "cell_type": "markdown",
   "metadata": {
    "origin_pos": 0
   },
   "source": [
    "In the *standard supervised learning setting*, which we have addressed up until now and will stick with throughout most of this book,\n",
    "we assume that both the training data and the test data\n",
    "are drawn *independently* from *identical* distributions\n",
    "(commonly called the i.i.d. assumption).\n",
    "This means that the process that samples our data has no *memory*.\n",
    "The $2^{\\mathrm{nd}}$ example drawn and the $3^{\\mathrm{rd}}$ drawn\n",
    "are no more correlated than the $2^{\\mathrm{nd}}$ and the $2$-millionth sample drawn."
   ]
  },
  {
   "cell_type": "markdown",
   "metadata": {
    "origin_pos": 0
   },
   "source": [
    "Being a good machine learning scientist requires thinking critically,\n",
    "and already you should be poking holes in this assumption,\n",
    "coming up with common cases where the assumption fails.\n",
    "What if we train a mortality risk predictor\n",
    "on data collected from patients at UCSF,\n",
    "and apply it on patients at Massachusetts General Hospital?\n",
    "These distributions are simply not identical.\n",
    "Moreover, draws might be correlated in time.\n",
    "What if we are classifying the topics of Tweets.\n",
    "The news cycle would create temporal dependencies\n",
    "in the topics being discussed, violating any assumptions of independence."
   ]
  },
  {
   "cell_type": "markdown",
   "metadata": {
    "origin_pos": 0
   },
   "source": [
    "Sometimes we can get away with minor violations of the i.i.d. assumption\n",
    "and our models will continue to work remarkably well.\n",
    "After all, nearly every real-world application\n",
    "involves at least some minor violation of the i.i.d. assumption,\n",
    "and yet we have useful tools for face recognition,\n",
    "speech recognition, language translation, etc."
   ]
  },
  {
   "cell_type": "markdown",
   "metadata": {
    "origin_pos": 0
   },
   "source": [
    "Other violations are sure to cause trouble.\n",
    "Imagine, for example, if we try to train\n",
    "a face recognition system by training it\n",
    "exclusively on university students\n",
    "and then want to deploy it as a tool\n",
    "for monitoring geriatrics in a nursing home population.\n",
    "This is unlikely to work well since college students\n",
    "tend to look considerably different from the elderly."
   ]
  },
  {
   "cell_type": "markdown",
   "metadata": {
    "origin_pos": 0
   },
   "source": [
    "In subsequent chapters and volumes, we will discuss problems\n",
    "arising from violations of the i.i.d. assumption.\n",
    "For now, even taking the i.i.d. assumption for granted,\n",
    "understanding generalization is a formidable problem.\n",
    "Moreover, elucidating the precise theoretical foundations\n",
    "that might explain why deep neural networks generalize as well as they do\n",
    "continues to vex the greatest minds in learning theory."
   ]
  },
  {
   "cell_type": "markdown",
   "metadata": {
    "origin_pos": 0
   },
   "source": [
    "When we train our models, we attempt to search for a function\n",
    "that fits the training data as well as possible.\n",
    "If the function is so flexible that it can catch on to spurious patterns\n",
    "just as easily as to true associations,\n",
    "then it might perform *too well* without producing a model\n",
    "that generalizes well to unseen data.\n",
    "This is precisely what we want to avoid (or at least control).\n",
    "Many of the techniques in deep learning are heuristics and tricks\n",
    "aimed at guarding against overfitting."
   ]
  },
  {
   "cell_type": "markdown",
   "metadata": {
    "origin_pos": 0
   },
   "source": [
    "### Model Complexity"
   ]
  },
  {
   "cell_type": "markdown",
   "metadata": {
    "origin_pos": 0
   },
   "source": [
    "When we have simple models and abundant data,\n",
    "we expect the generalization error to resemble the training error.\n",
    "When we work with more complex models and fewer examples,\n",
    "we expect the training error to go down but the generalization gap to grow.\n",
    "What precisely constitutes model complexity is a complex matter.\n",
    "Many factors govern whether a model will generalize well.\n",
    "For example a model with more parameters might be considered more complex.\n",
    "A model whose parameters can take a wider range of values\n",
    "might be more complex.\n",
    "Often with neural networks, we think of a model\n",
    "that takes more training steps as more complex,\n",
    "and one subject to *early stopping* as less complex."
   ]
  },
  {
   "cell_type": "markdown",
   "metadata": {
    "origin_pos": 0
   },
   "source": [
    "It can be difficult to compare the complexity among members\n",
    "of substantially different model classes\n",
    "(say a decision tree vs. a neural network).\n",
    "For now, a simple rule of thumb is quite useful:\n",
    "A model that can readily explain arbitrary facts\n",
    "is what statisticians view as complex,\n",
    "whereas one that has only a limited expressive power\n",
    "but still manages to explain the data well\n",
    "is probably closer to the truth.\n",
    "In philosophy, this is closely related to Popper’s\n",
    "criterion of [falsifiability](https://en.wikipedia.org/wiki/Falsifiability)\n",
    "of a scientific theory: a theory is good if it fits data\n",
    "and if there are specific tests that can be used to disprove it.\n",
    "This is important since all statistical estimation is\n",
    "[post hoc](https://en.wikipedia.org/wiki/Post_hoc),\n",
    "i.e., we estimate after we observe the facts,\n",
    "hence vulnerable to the associated fallacy.\n",
    "For now, we will put the philosophy aside and stick to more tangible issues."
   ]
  },
  {
   "cell_type": "markdown",
   "metadata": {
    "origin_pos": 0
   },
   "source": [
    "In this section, to give you some intuition,\n",
    "we’ll focus on a few factors that tend\n",
    "to influence the generalizability of a model class:"
   ]
  },
  {
   "cell_type": "markdown",
   "metadata": {
    "origin_pos": 0
   },
   "source": [
    "1. The number of tunable parameters. When the number of tunable parameters, sometimes called the *degrees of freedom*, is large, models tend to be more susceptible to overfitting.\n",
    "1. The values taken by the parameters. When weights can take a wider range of values, models can be more susceptible to overfitting.\n",
    "1. The number of training examples. It’s trivially easy to overfit a dataset containing only one or two examples even if your model is simple. But overfitting a dataset with millions of examples requires an extremely flexible model."
   ]
  },
  {
   "cell_type": "markdown",
   "metadata": {
    "origin_pos": 0
   },
   "source": [
    "### Model Selection"
   ]
  },
  {
   "cell_type": "markdown",
   "metadata": {
    "origin_pos": 0
   },
   "source": [
    "In machine learning, we usually select our final model\n",
    "after evaluating several candidate models.\n",
    "This process is called model selection.\n",
    "Sometimes the models subject to comparison\n",
    "are fundamentally different in nature\n",
    "(say, decision trees vs linear models).\n",
    "At other times, we are comparing\n",
    "members of the same class of models\n",
    "that have been trained with different hyperparameter settings."
   ]
  },
  {
   "cell_type": "markdown",
   "metadata": {
    "origin_pos": 0
   },
   "source": [
    "With multilayer perceptrons, for example,\n",
    "we may wish to compare models with\n",
    "different numbers of hidden layers,\n",
    "different numbers of hidden units,\n",
    "and various choices of the activation functions\n",
    "applied to each hidden layer.\n",
    "In order to determine the best among our candidate models,\n",
    "we will typically employ a validation set."
   ]
  },
  {
   "cell_type": "markdown",
   "metadata": {
    "origin_pos": 0
   },
   "source": [
    "### Validation Dataset"
   ]
  },
  {
   "cell_type": "markdown",
   "metadata": {
    "origin_pos": 0
   },
   "source": [
    "In principle we should not touch our test set\n",
    "until after we have chosen all our hyper-parameters.\n",
    "Were we to use the test data in the model selection process,\n",
    "there is a risk that we might overfit the test data.\n",
    "Then we would be in serious trouble.\n",
    "If we overfit our training data,\n",
    "there is always the evaluation on test data to keep us honest.\n",
    "But if we overfit the test data, how would we ever know?"
   ]
  },
  {
   "cell_type": "markdown",
   "metadata": {
    "origin_pos": 0
   },
   "source": [
    "Thus, we should never rely on the test data for model selection.\n",
    "And yet we cannot rely solely on the training data\n",
    "for model selection either because\n",
    "we cannot estimate the generalization error\n",
    "on the very data that we use to train the model."
   ]
  },
  {
   "cell_type": "markdown",
   "metadata": {
    "origin_pos": 0
   },
   "source": [
    "In practical applications, the picture gets muddier.\n",
    "While ideally we would only touch the test data once,\n",
    "to assess the very best model or to compare\n",
    "a small number of models to each other,\n",
    "real-world test data is seldom discarded after just one use.\n",
    "We can seldom afford a new test set for each round of experiments."
   ]
  },
  {
   "cell_type": "markdown",
   "metadata": {
    "origin_pos": 0
   },
   "source": [
    "The common practice to address this problem\n",
    "is to split our data three ways,\n",
    "incorporating a *validation set*\n",
    "in addition to the training and test sets."
   ]
  },
  {
   "cell_type": "markdown",
   "metadata": {
    "origin_pos": 0
   },
   "source": [
    "The result is a murky practice where the boundaries\n",
    "between validation and test data are worryingly ambiguous.\n",
    "Unless explicitly stated otherwise, in the experiments in this book\n",
    "we are really working with what should rightly be called\n",
    "training data and validation data, with no true test sets.\n",
    "Therefore, the accuracy reported in each experiment\n",
    "is really the validation accuracy and not a true test set accuracy.\n",
    "The good news is that we do not need too much data in the validation set.\n",
    "The uncertainty in our estimates can be shown\n",
    "to be of the order of $\\mathcal{O}(n^{-\\frac{1}{2}})$."
   ]
  },
  {
   "cell_type": "markdown",
   "metadata": {
    "origin_pos": 0
   },
   "source": [
    "### $K$-Fold Cross-Validation"
   ]
  },
  {
   "cell_type": "markdown",
   "metadata": {
    "origin_pos": 0
   },
   "source": [
    "When training data is scarce,\n",
    "we might not even be able to afford to hold out\n",
    "enough data to constitute a proper validation set.\n",
    "One popular solution to this problem is to employ\n",
    "$K$*-fold cross-validation*.\n",
    "Here, the original training data is split into $K$ non-overlapping subsets.\n",
    "Then model training and validation are executed $K$ times,\n",
    "each time training on $K-1$ subsets and validating\n",
    "on a different subset (the one not used for training in that round).\n",
    "Finally, the training and validation error rates are estimated\n",
    "by averaging over the results from the $K$ experiments."
   ]
  },
  {
   "cell_type": "markdown",
   "metadata": {
    "origin_pos": 0
   },
   "source": [
    "### Underfitting or Overfitting?"
   ]
  },
  {
   "cell_type": "markdown",
   "metadata": {
    "origin_pos": 0
   },
   "source": [
    "When we compare the training and validation errors,\n",
    "we want to be mindful of two common situations:\n",
    "First, we want to watch out for cases\n",
    "when our training error and validation error are both substantial\n",
    "but there is a little gap between them.\n",
    "If the model is unable to reduce the training error,\n",
    "that could mean that our model is too simple\n",
    "(i.e., insufficiently expressive)\n",
    "to capture the pattern that we are trying to model.\n",
    "Moreover, since the *generalization gap*\n",
    "between our training and validation errors is small,\n",
    "we have reason to believe that we could get away with a more complex model.\n",
    "This phenomenon is known as underfitting."
   ]
  },
  {
   "cell_type": "markdown",
   "metadata": {
    "origin_pos": 0
   },
   "source": [
    "On the other hand, as we discussed above,\n",
    "we want to watch out for the cases\n",
    "when our training error is significantly lower\n",
    "than our validation error, indicating severe overfitting.\n",
    "Note that overfitting is not always a bad thing.\n",
    "With deep learning especially, it is well known\n",
    "that the best predictive models often perform\n",
    "far better on training data than on holdout data.\n",
    "Ultimately, we usually care more about the validation error\n",
    "than about the gap between the training and validation errors."
   ]
  },
  {
   "cell_type": "markdown",
   "metadata": {
    "origin_pos": 0
   },
   "source": [
    "Whether we overfit or underfit can depend\n",
    "both on the complexity of our model\n",
    "and the size of the available training datasets,\n",
    "two topics that we discuss below."
   ]
  },
  {
   "cell_type": "markdown",
   "metadata": {
    "origin_pos": 0
   },
   "source": [
    "### Model Complexity"
   ]
  },
  {
   "cell_type": "markdown",
   "metadata": {
    "origin_pos": 0
   },
   "source": [
    "To illustrate some classical intuition\n",
    "about overfitting and model complexity,\n",
    "we give an example using polynomials.\n",
    "Given training data consisting of a single feature $x$\n",
    "and a corresponding real-valued label $y$,\n",
    "we try to find the polynomial of degree $d$"
   ]
  },
  {
   "cell_type": "markdown",
   "metadata": {
    "origin_pos": 0
   },
   "source": [
    "$$\\hat{y}= \\sum_{i=0}^d x^i w_i$$"
   ]
  },
  {
   "cell_type": "markdown",
   "metadata": {
    "origin_pos": 0
   },
   "source": [
    "to estimate the labels $y$.\n",
    "This is just a linear regression problem\n",
    "where our features are given by the powers of $x$,\n",
    "the model's weights are given by $w_i$,\n",
    "and the bias is given by $w_0$ since $x^0 = 1$ for all $x$.\n",
    "Since this is just a linear regression problem,\n",
    "we can use the squared error as our loss function."
   ]
  },
  {
   "cell_type": "markdown",
   "metadata": {
    "origin_pos": 0
   },
   "source": [
    "A higher-order polynomial function is more complex\n",
    "than a lower order polynomial function,\n",
    "since the higher-order polynomial has more parameters\n",
    "and the model function’s selection range is wider.\n",
    "Fixing the training dataset,\n",
    "higher-order polynomial functions should always\n",
    "achieve lower (at worst, equal) training error\n",
    "relative to lower degree polynomials.\n",
    "In fact, whenever the data points each have a distinct value of $x$,\n",
    "a polynomial function with degree equal to the number of data points\n",
    "can fit the training set perfectly.\n",
    "We visualize the relationship between polynomial degree\n",
    "and under- vs over-fitting in the following figure."
   ]
  },
  {
   "cell_type": "markdown",
   "metadata": {
    "origin_pos": 0
   },
   "source": [
    "![Influence of Model Complexity on Underfitting and Overfitting](https://doc.shiyanlou.com/courses/2777/246442/908f87fb8a5c13deefa40577b8316f45-1)"
   ]
  },
  {
   "cell_type": "markdown",
   "metadata": {
    "origin_pos": 0
   },
   "source": [
    "### Dataset Size"
   ]
  },
  {
   "cell_type": "markdown",
   "metadata": {
    "origin_pos": 0
   },
   "source": [
    "The other big consideration to bear in mind is the dataset size.\n",
    "Fixing our model, the fewer samples we have in the training dataset,\n",
    "the more likely (and more severely) we are to encounter overfitting.\n",
    "As we increase the amount of training data,\n",
    "the generalization error typically decreases.\n",
    "Moreover, in general, more data never hurts.\n",
    "For a fixed task and data *distribution*,\n",
    "there is typically a relationship between model complexity and dataset size.\n",
    "Given more data, we might profitably attempt to fit a more complex model.\n",
    "Absent sufficient data, simpler models may be difficult to beat.\n",
    "For many tasks, deep learning only outperforms linear models\n",
    "when many thousands of training examples are available.\n",
    "In part, the current success of deep learning\n",
    "owes to the current abundance of massive datasets\n",
    "due to Internet companies, cheap storage, connected devices,\n",
    "and the broad digitization of the economy."
   ]
  },
  {
   "cell_type": "markdown",
   "metadata": {
    "origin_pos": 0
   },
   "source": [
    "### Polynomial Regression"
   ]
  },
  {
   "cell_type": "markdown",
   "metadata": {
    "origin_pos": 0
   },
   "source": [
    "We can now explore these concepts interactively\n",
    "by fitting polynomials to data.\n",
    "To get started we will import our usual packages. \n",
    "At the same time, we will define two functions to plot chart, which we have used in the previous section."
   ]
  },
  {
   "cell_type": "code",
   "execution_count": null,
   "metadata": {
    "origin_pos": 2,
    "tab": [
     "pytorch"
    ]
   },
   "outputs": [],
   "source": [
    "import torch\n",
    "from torch import nn\n",
    "from torch.utils import data\n",
    "import numpy as np\n",
    "import math\n",
    "from IPython import display\n",
    "from matplotlib import pyplot as plt\n",
    "%matplotlib inline\n",
    "\n",
    "def use_svg_display():  \n",
    "    \"\"\"Use the svg format to display a plot in Jupyter.\"\"\"\n",
    "    display.set_matplotlib_formats('svg')\n",
    "\n",
    "def set_axes(axes, xlabel, ylabel, xlim, ylim, xscale, yscale, legend):\n",
    "    \"\"\"Set the axes for matplotlib.\"\"\"\n",
    "    axes.set_xlabel(xlabel)\n",
    "    axes.set_ylabel(ylabel)\n",
    "    axes.set_xscale(xscale)\n",
    "    axes.set_yscale(yscale)\n",
    "    axes.set_xlim(xlim)\n",
    "    axes.set_ylim(ylim)\n",
    "    if legend:\n",
    "        axes.legend(legend)\n",
    "    axes.grid()\n",
    "\n",
    "class Animator: \n",
    "    \"\"\"For plotting data in animation.\"\"\"\n",
    "    def __init__(self, xlabel=None, ylabel=None, legend=None, xlim=None,\n",
    "                 ylim=None, xscale='linear', yscale='linear',\n",
    "                 fmts=('-', 'm--', 'g-.', 'r:'), nrows=1, ncols=1,\n",
    "                 figsize=(3.5, 2.5)):\n",
    "        # Incrementally plot multiple lines\n",
    "        if legend is None:\n",
    "            legend = []\n",
    "        use_svg_display()\n",
    "        self.fig, self.axes = plt.subplots(nrows, ncols, figsize=figsize)\n",
    "        if nrows * ncols == 1:\n",
    "            self.axes = [self.axes, ]\n",
    "        # Use a lambda function to capture arguments\n",
    "        self.config_axes = lambda: set_axes(\n",
    "            self.axes[0], xlabel, ylabel, xlim, ylim, xscale, yscale, legend)\n",
    "        self.X, self.Y, self.fmts = None, None, fmts\n",
    "\n",
    "    def add(self, x, y):\n",
    "        # Add multiple data points into the figure\n",
    "        if not hasattr(y, \"__len__\"):\n",
    "            y = [y]\n",
    "        n = len(y)\n",
    "        if not hasattr(x, \"__len__\"):\n",
    "            x = [x] * n\n",
    "        if not self.X:\n",
    "            self.X = [[] for _ in range(n)]\n",
    "        if not self.Y:\n",
    "            self.Y = [[] for _ in range(n)]\n",
    "        for i, (a, b) in enumerate(zip(x, y)):\n",
    "            if a is not None and b is not None:\n",
    "                self.X[i].append(a)\n",
    "                self.Y[i].append(b)\n",
    "        self.axes[0].cla()\n",
    "        for x, y, fmt in zip(self.X, self.Y, self.fmts):\n",
    "            self.axes[0].plot(x, y, fmt)\n",
    "        self.config_axes()\n",
    "        display.display(self.fig)\n",
    "        display.clear_output(wait=True)"
   ]
  },
  {
   "cell_type": "code",
   "execution_count": null,
   "metadata": {},
   "outputs": [],
   "source": []
  },
  {
   "cell_type": "markdown",
   "metadata": {
    "origin_pos": 4
   },
   "source": [
    "### Generating the Dataset"
   ]
  },
  {
   "cell_type": "markdown",
   "metadata": {
    "origin_pos": 4
   },
   "source": [
    "First we need data. Given $x$, we will use the following cubic polynomial to generate the labels on training and test data:"
   ]
  },
  {
   "cell_type": "markdown",
   "metadata": {
    "origin_pos": 4
   },
   "source": [
    "$$y = 5 + 1.2x - 3.4\\frac{x^2}{2!} + 5.6 \\frac{x^3}{3!} + \\epsilon \\text{ where }\n",
    "\\epsilon \\sim \\mathcal{N}(0, 0.1).$$"
   ]
  },
  {
   "cell_type": "markdown",
   "metadata": {
    "origin_pos": 4
   },
   "source": [
    "The noise term $\\epsilon$ obeys a normal distribution\n",
    "with a mean of 0 and a standard deviation of 0.1.\n",
    "We will synthesize 100 samples each for the training set and test set."
   ]
  },
  {
   "cell_type": "code",
   "execution_count": null,
   "metadata": {
    "origin_pos": 5,
    "tab": [
     "pytorch"
    ]
   },
   "outputs": [],
   "source": [
    "maxdegree = 20  # Maximum degree of the polynomial\n",
    "n_train, n_test = 100, 100  # Training and test dataset sizes\n",
    "true_w = np.zeros(maxdegree)  # Allocate lots of empty space\n",
    "true_w[0:4] = np.array([5, 1.2, -3.4, 5.6])\n",
    "\n",
    "features = np.random.normal(size=(n_train + n_test, 1)) # the value of x\n",
    "np.random.shuffle(features)\n",
    "poly_features = np.power(features, np.arange(maxdegree).reshape(1, -1)) # the value of x, x^2, ..., x^30\n",
    "for i in range(maxdegree):\n",
    "    poly_features[:,i] /= math.gamma(i+1)\n",
    "labels = np.dot(poly_features, true_w) # y\n",
    "labels += np.random.normal(scale=0.1, size=labels.shape)"
   ]
  },
  {
   "cell_type": "code",
   "execution_count": null,
   "metadata": {},
   "outputs": [],
   "source": []
  },
  {
   "cell_type": "markdown",
   "metadata": {
    "origin_pos": 6
   },
   "source": [
    "For optimization, we typically want to avoid\n",
    "very large values of gradients, losses, etc.\n",
    "This is why the monomials stored in `poly_features`\n",
    "are rescaled from $x^i$ to $\\frac{1}{i!} x^i$.\n",
    "It allows us to avoid very large values for large exponents $i$.\n",
    "We use the Gamma function from the math module,\n",
    "where $n! = \\Gamma(n+1)$."
   ]
  },
  {
   "cell_type": "markdown",
   "metadata": {
    "origin_pos": 6
   },
   "source": [
    "Take a look at the first 2 samples from the generated dataset.\n",
    "The value 1 is technically a feature,\n",
    "namely the constant feature corresponding to the bias."
   ]
  },
  {
   "cell_type": "code",
   "execution_count": null,
   "metadata": {
    "origin_pos": 7,
    "tab": [
     "pytorch"
    ]
   },
   "outputs": [],
   "source": [
    "features[:2], poly_features[:2], labels[:2]"
   ]
  },
  {
   "cell_type": "code",
   "execution_count": null,
   "metadata": {},
   "outputs": [],
   "source": []
  },
  {
   "cell_type": "code",
   "execution_count": null,
   "metadata": {
    "origin_pos": 8,
    "tab": [
     "pytorch"
    ]
   },
   "outputs": [],
   "source": [
    "# Convert from NumPy to PyTorch tensors\n",
    "true_w, features, poly_features, labels = [torch.from_numpy(x).type(\n",
    "    torch.float32) for x in [true_w, features, poly_features, labels]]"
   ]
  },
  {
   "cell_type": "code",
   "execution_count": null,
   "metadata": {},
   "outputs": [],
   "source": []
  },
  {
   "cell_type": "markdown",
   "metadata": {
    "origin_pos": 10
   },
   "source": [
    "### Training and Testing Model"
   ]
  },
  {
   "cell_type": "markdown",
   "metadata": {
    "origin_pos": 10
   },
   "source": [
    "Let us first implement a function to evaluate the loss on a given data. Before that, we define a class that can accumulate sum over $N$ variables."
   ]
  },
  {
   "cell_type": "code",
   "execution_count": null,
   "metadata": {},
   "outputs": [],
   "source": [
    "class Accumulator:\n",
    "    \"\"\"For accumulating sums over `n` variables.\"\"\"\n",
    "    def __init__(self, n):\n",
    "        self.data = [0.0] * n\n",
    "\n",
    "    def add(self, *args):\n",
    "        self.data = [a + float(b) for a, b in zip(self.data, args)]\n",
    "\n",
    "    def reset(self):\n",
    "        self.data = [0.0] * len(self.data)\n",
    "\n",
    "    def __getitem__(self, idx):\n",
    "        return self.data[idx]"
   ]
  },
  {
   "cell_type": "code",
   "execution_count": null,
   "metadata": {},
   "outputs": [],
   "source": []
  },
  {
   "cell_type": "markdown",
   "metadata": {},
   "source": [
    "Then we define a function that can evaluate the loss of our model."
   ]
  },
  {
   "cell_type": "code",
   "execution_count": null,
   "metadata": {
    "origin_pos": 12,
    "tab": [
     "pytorch"
    ]
   },
   "outputs": [],
   "source": [
    "def evaluate_loss(net, data_iter, loss):\n",
    "    \"\"\"Evaluate the loss of a model on the given dataset.\"\"\"\n",
    "    metric = Accumulator(2)  # sum_loss, num_examples\n",
    "    for X, y in data_iter:\n",
    "        l = loss(net(X), y)\n",
    "        metric.add(l.sum(), l.numel())\n",
    "    return metric[0] / metric[1]"
   ]
  },
  {
   "cell_type": "code",
   "execution_count": null,
   "metadata": {},
   "outputs": [],
   "source": []
  },
  {
   "cell_type": "markdown",
   "metadata": {
    "origin_pos": 14
   },
   "source": [
    "Now define the training function.\n",
    "Before that, we define three functions which have been used in the previous section."
   ]
  },
  {
   "cell_type": "code",
   "execution_count": null,
   "metadata": {},
   "outputs": [],
   "source": [
    "def load_array(data_arrays, batch_size, is_train=True):\n",
    "    \"\"\"Construct a PyTorch data iterator.\"\"\"\n",
    "    dataset = data.TensorDataset(*data_arrays)\n",
    "    return data.DataLoader(dataset, batch_size, shuffle=is_train)\n",
    "\n",
    "def accuracy(y_hat, y):  #@save\n",
    "    \"\"\"Compute the number of correct predictions.\"\"\"\n",
    "    if len(y_hat.shape) > 1 and y_hat.shape[1] > 1:\n",
    "        y_hat = y_hat.argmax(axis=1)\n",
    "    return float((y_hat.type(y.dtype) == y).sum())\n",
    "\n",
    "def train_epoch_ch3(net, train_iter, loss, updater):  #@save\n",
    "    \"\"\"The training loop defined in Chapter 3.\"\"\"\n",
    "    # Sum of training loss, sum of training accuracy, no. of examples\n",
    "    metric = Accumulator(3)\n",
    "    for X, y in train_iter:\n",
    "        # Compute gradients and update parameters\n",
    "        y_hat = net(X)\n",
    "        l = loss(y_hat, y)\n",
    "        if isinstance(updater, torch.optim.Optimizer):\n",
    "            updater.zero_grad()\n",
    "            l.backward()\n",
    "            updater.step()\n",
    "            metric.add(float(l)*len(y), accuracy(y_hat, y), y.size().numel()) # loss, accuracy, total num\n",
    "        else:\n",
    "            l.sum().backward()\n",
    "            updater(X.shape[0])\n",
    "            metric.add(float(l.sum()), accuracy(y_hat, y), y.size().numel())\n",
    "    # Return training loss and training accuracy\n",
    "    return metric[0] / metric[2], metric[1] / metric[2]"
   ]
  },
  {
   "cell_type": "code",
   "execution_count": null,
   "metadata": {},
   "outputs": [],
   "source": []
  },
  {
   "cell_type": "code",
   "execution_count": null,
   "metadata": {
    "origin_pos": 16,
    "tab": [
     "pytorch"
    ]
   },
   "outputs": [],
   "source": [
    "def train(train_features, test_features, train_labels, test_labels, num_epochs=1000):\n",
    "    loss = nn.MSELoss()\n",
    "    input_shape = train_features.shape[-1]\n",
    "    # Switch off the bias since we already catered for it in the polynomial\n",
    "    # features\n",
    "    net = nn.Sequential(nn.Linear(input_shape, 1, bias=False))\n",
    "    batch_size = min(10, train_labels.shape[0])\n",
    "    train_iter = load_array((train_features, train_labels.reshape(-1,1)),batch_size)\n",
    "    test_iter = load_array((test_features, test_labels.reshape(-1,1)),batch_size, is_train=False)\n",
    "    trainer = torch.optim.SGD(net.parameters(), lr=0.01)\n",
    "    animator = Animator(xlabel='epoch', ylabel='loss', yscale='log',\n",
    "                            xlim=[1, num_epochs], ylim=[1e-3, 1e2],\n",
    "                            legend=['train', 'test'])\n",
    "    for epoch in range(1, num_epochs+1):\n",
    "        train_epoch_ch3(net, train_iter, loss, trainer)\n",
    "        if epoch % 50 == 0:\n",
    "            animator.add(epoch, (evaluate_loss(net, train_iter, loss),\n",
    "                                 evaluate_loss(net, test_iter, loss)))\n",
    "    print('weight:', net[0].weight.data.numpy())"
   ]
  },
  {
   "cell_type": "code",
   "execution_count": null,
   "metadata": {},
   "outputs": [],
   "source": []
  },
  {
   "cell_type": "markdown",
   "metadata": {
    "origin_pos": 18
   },
   "source": [
    "### Third-Order Polynomial Function Fitting (Normal)"
   ]
  },
  {
   "cell_type": "markdown",
   "metadata": {
    "origin_pos": 18
   },
   "source": [
    "We will begin by first using a third-order polynomial function\n",
    "with the same order as the data generation function.\n",
    "The results show that this model’s training error rate\n",
    "when using the testing dataset is low.\n",
    "The trained model parameters are also close\n",
    "to the true values $w = [5, 1.2, -3.4, 5.6]$."
   ]
  },
  {
   "cell_type": "code",
   "execution_count": null,
   "metadata": {
    "origin_pos": 19,
    "tab": [
     "pytorch"
    ]
   },
   "outputs": [],
   "source": [
    "# Pick the first four dimensions, i.e., 1, x, x^2, x^3 from the polynomial\n",
    "# features\n",
    "train(poly_features[:n_train, 0:4], poly_features[n_train:, 0:4],\n",
    "      labels[:n_train], labels[n_train:])"
   ]
  },
  {
   "cell_type": "code",
   "execution_count": null,
   "metadata": {},
   "outputs": [],
   "source": []
  },
  {
   "cell_type": "markdown",
   "metadata": {
    "origin_pos": 20
   },
   "source": [
    "### Linear Function Fitting (Underfitting)"
   ]
  },
  {
   "cell_type": "markdown",
   "metadata": {
    "origin_pos": 20
   },
   "source": [
    "Let’s take another look at linear function fitting.\n",
    "After the decline in the early epoch,\n",
    "it becomes difficult to further decrease\n",
    "this model’s training error rate.\n",
    "After the last epoch iteration has been completed,\n",
    "the training error rate is still high.\n",
    "When used to fit non-linear patterns\n",
    "(like the third-order polynomial function here)\n",
    "linear models are liable to underfit."
   ]
  },
  {
   "cell_type": "code",
   "execution_count": null,
   "metadata": {
    "origin_pos": 21,
    "tab": [
     "pytorch"
    ]
   },
   "outputs": [],
   "source": [
    "# Pick the first four dimensions, i.e., 1, x from the polynomial features\n",
    "train(poly_features[:n_train, 0:3], poly_features[n_train:, 0:3],\n",
    "      labels[:n_train], labels[n_train:])"
   ]
  },
  {
   "cell_type": "code",
   "execution_count": null,
   "metadata": {},
   "outputs": [],
   "source": []
  },
  {
   "cell_type": "markdown",
   "metadata": {
    "origin_pos": 22
   },
   "source": [
    "### Insufficient Training (Overfitting)"
   ]
  },
  {
   "cell_type": "markdown",
   "metadata": {
    "origin_pos": 22
   },
   "source": [
    "Now let us try to train the model\n",
    "using a polynomial of too high degree.\n",
    "Here, there is insufficient data to learn that\n",
    "the higher-degree coefficients should have values close to zero.\n",
    "As a result, our overly-complex model\n",
    "is far too susceptible to being influenced\n",
    "by noise in the training data.\n",
    "Of course, our training error will now be low\n",
    "(even lower than if we had the right model!)\n",
    "but our test error will be high."
   ]
  },
  {
   "cell_type": "markdown",
   "metadata": {
    "origin_pos": 22
   },
   "source": [
    "Try out different model complexities (`n_degree`)\n",
    "and training set sizes (`n_subset`)\n",
    "to gain some intuition of what is happening.\n",
    "Now we set `n_subset=20` and `n_degree=20`, now we can easily see the phenomenon of overfitting, that is, the training loss is small, while the test loss is large."
   ]
  },
  {
   "cell_type": "code",
   "execution_count": null,
   "metadata": {
    "origin_pos": 23,
    "tab": [
     "pytorch"
    ]
   },
   "outputs": [],
   "source": [
    "n_subset = 20  # Subset of data to train on\n",
    "n_degree = 20  # Degree of polynomials\n",
    "train(poly_features[1:n_subset, 0:n_degree],\n",
    "      poly_features[n_train:, 0:n_degree], labels[1:n_subset],\n",
    "      labels[n_train:])"
   ]
  },
  {
   "cell_type": "code",
   "execution_count": null,
   "metadata": {},
   "outputs": [],
   "source": []
  },
  {
   "cell_type": "markdown",
   "metadata": {
    "origin_pos": 24
   },
   "source": [
    "In later chapters, we will continue\n",
    "to discuss overfitting problems\n",
    "and methods for dealing with them,\n",
    "such as weight decay and dropout."
   ]
  },
  {
   "cell_type": "markdown",
   "metadata": {
    "origin_pos": 24
   },
   "source": [
    "### Summary"
   ]
  },
  {
   "cell_type": "markdown",
   "metadata": {
    "origin_pos": 24
   },
   "source": [
    "* Since the generalization error rate cannot be estimated based on the training error rate, simply minimizing the training error rate will not necessarily mean a reduction in the generalization error rate. Machine learning models need to be careful to safeguard against overfitting such as to minimize the generalization error.\n",
    "* A validation set can be used for model selection (provided that it is not used too liberally).\n",
    "* Underfitting means that the model is not able to reduce the training error rate, while overfitting is a result of the model training error rate being much lower than the testing dataset rate.\n",
    "* We should choose an appropriately complex model and avoid using insufficient training samples."
   ]
  },
  {
   "cell_type": "markdown",
   "metadata": {
    "origin_pos": 24
   },
   "source": [
    "### Exercises"
   ]
  },
  {
   "cell_type": "markdown",
   "metadata": {
    "origin_pos": 24
   },
   "source": [
    "1. Can you solve the polynomial regression problem exactly? Hint: use linear algebra.\n",
    "1. Model selection for polynomials\n",
    "    * Plot the training error vs. model complexity (degree of the polynomial). What do you observe?\n",
    "    * Plot the test error in this case.\n",
    "    * Generate the same graph as a function of the amount of data?\n",
    "1. What happens if you drop the normalization of the polynomial features $x^i$ by $1/i!$. Can you fix this in some other way?\n",
    "1. What degree of polynomial do you need to reduce the training error to 0?\n",
    "1. Can you ever expect to see 0 generalization error?"
   ]
  },
  {
   "cell_type": "markdown",
   "metadata": {
    "origin_pos": 26,
    "tab": [
     "pytorch"
    ]
   },
   "source": [
    "[Discussions](https://discuss.d2l.ai/t/97)\n"
   ]
  }
 ],
 "metadata": {
  "kernelspec": {
   "display_name": "Python 3",
   "language": "python",
   "name": "python3"
  },
  "language_info": {
   "codemirror_mode": {
    "name": "ipython",
    "version": 3
   },
   "file_extension": ".py",
   "mimetype": "text/x-python",
   "name": "python",
   "nbconvert_exporter": "python",
   "pygments_lexer": "ipython3",
   "version": "3.7.1"
  }
 },
 "nbformat": 4,
 "nbformat_minor": 4
}

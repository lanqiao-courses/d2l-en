{
 "cells": [
  {
   "cell_type": "markdown",
   "metadata": {
    "origin_pos": 0
   },
   "source": [
    "## Dropout"
   ]
  },
  {
   "cell_type": "markdown",
   "metadata": {
    "origin_pos": 0
   },
   "source": [
    "In the previous section,\n",
    "we introduced the classical approach\n",
    "to regularizing statistical models\n",
    "by penalizing the $\\ell_2$ norm of the weights.\n",
    "In probabilistic terms, we could justify this technique\n",
    "by arguing that we have assumed a prior belief\n",
    "that weights take values from\n",
    "a Gaussian distribution with mean $0$.\n",
    "More intuitively, we might argue\n",
    "that we encouraged the model to spread out its weights\n",
    "among many features rather than depending too much\n",
    "on a small number of potentially spurious associations."
   ]
  },
  {
   "cell_type": "markdown",
   "metadata": {
    "origin_pos": 0
   },
   "source": [
    "### Overfitting Revisited"
   ]
  },
  {
   "cell_type": "markdown",
   "metadata": {
    "origin_pos": 0
   },
   "source": [
    "Faced with more features than examples,\n",
    "linear models tend to overfit.\n",
    "But given more examples than features,\n",
    "we can generally count on linear models not to overfit.\n",
    "Unfortunately, the reliability with which\n",
    "linear models generalize comes at a cost:\n",
    "Naively applied, linear models do not take\n",
    "into account interactions among features.\n",
    "For every feature, a linear model must assign\n",
    "either a positive or a negative weight, ignoring context."
   ]
  },
  {
   "cell_type": "markdown",
   "metadata": {
    "origin_pos": 0
   },
   "source": [
    "In traditional texts, this fundamental tension\n",
    "between generalizability and flexibility\n",
    "is described as the *bias-variance tradeoff*.\n",
    "Linear models have high bias\n",
    "(they can only represent a small class of functions),\n",
    "but low variance (they give similar results\n",
    "across different random samples of the data)."
   ]
  },
  {
   "cell_type": "markdown",
   "metadata": {
    "origin_pos": 0
   },
   "source": [
    "Deep neural networks inhabit the opposite\n",
    "end of the bias-variance spectrum.\n",
    "Unlike linear models, neural networks\n",
    "are not confined to looking at each feature individually.\n",
    "They can learn interactions among groups of features.\n",
    "For example, they might infer that\n",
    "“Nigeria” and “Western Union” appearing\n",
    "together in an email indicates spam\n",
    "but that separately they do not."
   ]
  },
  {
   "cell_type": "markdown",
   "metadata": {
    "origin_pos": 0
   },
   "source": [
    "Even when we have far more examples than features,\n",
    "deep neural networks are capable of overfitting.\n",
    "In 2017, a group of researchers demonstrated\n",
    "the extreme flexibility of neural networks\n",
    "by training deep nets on randomly-labeled images.\n",
    "Despite the absence of any true pattern\n",
    "linking the inputs to the outputs,\n",
    "they found that the neural network optimized by SGD\n",
    "could label every image in the training set perfectly."
   ]
  },
  {
   "cell_type": "markdown",
   "metadata": {
    "origin_pos": 0
   },
   "source": [
    "Consider what this means.\n",
    "If the labels are assigned uniformly\n",
    "at random and there are 10 classes,\n",
    "then no classifier can do better\n",
    "than 10% accuracy on holdout data.\n",
    "The generalization gap here is a whopping 90%.\n",
    "If our models are so expressive that they\n",
    "can overfit this badly, then when should\n",
    "we expect them not to overfit?\n",
    "The mathematical foundations for\n",
    "the puzzling generalization properties\n",
    "of deep networks remain open research questions,\n",
    "and we encourage the theoretically-oriented\n",
    "reader to dig deeper into the topic.\n",
    "For now, we turn to the more terrestrial investigation of\n",
    "practical tools that tend (empirically)\n",
    "to improve the generalization of deep nets."
   ]
  },
  {
   "cell_type": "markdown",
   "metadata": {
    "origin_pos": 0
   },
   "source": [
    "### Robustness through Perturbations"
   ]
  },
  {
   "cell_type": "markdown",
   "metadata": {
    "origin_pos": 0
   },
   "source": [
    "Let us think briefly about what we\n",
    "expect from a good predictive model.\n",
    "We want it to peform well on unseen data.\n",
    "Classical generalization theory\n",
    "suggests that to close the gap between\n",
    "train and test performance,\n",
    "we should aim for a *simple* model.\n",
    "Simplicity can come in the form\n",
    "of a small number of dimensions.\n",
    "We explored this when discussing the\n",
    "monomial basis functions of linear models.\n",
    "Additionally, as we saw when discussing weight decay\n",
    "($\\ell_2$ regularization),\n",
    "the (inverse) norm of the parameters\n",
    "represents another useful measure of simplicity.\n",
    "Another useful notion of simplicity is smoothness,\n",
    "i.e., that the function should not be sensitive\n",
    "to small changes to its inputs.\n",
    "For instance, when we classify images,\n",
    "we would expect that adding some random noise\n",
    "to the pixels should be mostly harmless."
   ]
  },
  {
   "cell_type": "markdown",
   "metadata": {
    "origin_pos": 0
   },
   "source": [
    "In 1995, Christopher Bishop formalized\n",
    "this idea when he proved that training with input noise\n",
    "is equivalent to Tikhonov regularization (`Bishop.1995`).\n",
    "This work drew a clear mathematical connection\n",
    "between the requirement that a function be smooth (and thus simple),\n",
    "and the requirement that it be resilient\n",
    "to perturbations in the input."
   ]
  },
  {
   "cell_type": "markdown",
   "metadata": {
    "origin_pos": 0
   },
   "source": [
    "Then, in 2014, Srivastava et al. developed a clever idea for how to apply Bishop's idea\n",
    "to the *internal* layers of the network, too.\n",
    "Namely, they proposed to inject noise\n",
    "into each layer of the network\n",
    "before calculating the subsequent layer during training.\n",
    "They realized that when training\n",
    "a deep network with many layers,\n",
    "injecting noise enforces smoothness just on the input-output mapping."
   ]
  },
  {
   "cell_type": "markdown",
   "metadata": {
    "origin_pos": 0
   },
   "source": [
    "Their idea, called *dropout*, involves\n",
    "injecting noise while computing\n",
    "each internal layer during forward propagation,\n",
    "and it has become a standard technique\n",
    "for training neural networks.\n",
    "The method is called *dropout* because we literally\n",
    "*drop out* some neurons during training.\n",
    "Throughout training, on each iteration,\n",
    "standard dropout consists of zeroing out\n",
    "some fraction (typically 50%) of the nodes in each layer\n",
    "before calculating the subsequent layer."
   ]
  },
  {
   "cell_type": "markdown",
   "metadata": {
    "origin_pos": 0
   },
   "source": [
    "To be clear, we are imposing\n",
    "our own narrative with the link to Bishop.\n",
    "The original paper on dropout\n",
    "offers intuition through a surprising\n",
    "analogy to sexual reproduction.\n",
    "The authors argue that neural network overfitting\n",
    "is characterized by a state in which\n",
    "each layer relies on a specifc\n",
    "pattern of activations in the previous layer,\n",
    "calling this condition *co-adaptation*.\n",
    "Dropout, they claim, breaks up co-adaptation\n",
    "just as sexual reproduction is argued to\n",
    "break up co-adapted genes."
   ]
  },
  {
   "cell_type": "markdown",
   "metadata": {
    "origin_pos": 0
   },
   "source": [
    "The key challenge then is *how* to inject this noise.\n",
    "One idea is to inject the noise in an *unbiased* manner\n",
    "so that the expected value of each layer---while fixing\n",
    "the others---equals to the value it would have taken absent noise."
   ]
  },
  {
   "cell_type": "markdown",
   "metadata": {
    "origin_pos": 0
   },
   "source": [
    "In Bishop's work, he added Gaussian noise\n",
    "to the inputs to a linear model:\n",
    "At each training iteration, he added noise\n",
    "sampled from a distribution with mean zero\n",
    "$\\epsilon \\sim \\mathcal{N}(0,\\sigma^2)$ to the input $\\mathbf{x}$,\n",
    "yielding a perturbed point $\\mathbf{x}' = \\mathbf{x} + \\epsilon$.\n",
    "In expectation, $E[\\mathbf{x}'] = \\mathbf{x}$."
   ]
  },
  {
   "cell_type": "markdown",
   "metadata": {
    "origin_pos": 0
   },
   "source": [
    "In standard dropout regularization,\n",
    "one debiases each layer by normalizing\n",
    "by the fraction of nodes that were retained (not dropped out).\n",
    "In other words, dropout with *dropout probability* $p$\n",
    "is applied as follows:"
   ]
  },
  {
   "cell_type": "markdown",
   "metadata": {
    "origin_pos": 0
   },
   "source": [
    "$$\n",
    "\\begin{aligned}\n",
    "h' =\n",
    "\\begin{cases}\n",
    "    0 & \\text{ with probability } p \\\\\n",
    "    \\frac{h}{1-p} & \\text{ otherwise}\n",
    "\\end{cases}\n",
    "\\end{aligned}\n",
    "$$"
   ]
  },
  {
   "cell_type": "markdown",
   "metadata": {
    "origin_pos": 0
   },
   "source": [
    "By design, the expectation remains unchanged, i.e., $E[h'] = h$.\n",
    "Intermediate activations $h$ are replaced by\n",
    "a random variable $h'$ with matching expectation."
   ]
  },
  {
   "cell_type": "markdown",
   "metadata": {
    "origin_pos": 0
   },
   "source": [
    "### Dropout in Practice"
   ]
  },
  {
   "cell_type": "markdown",
   "metadata": {
    "origin_pos": 0
   },
   "source": [
    "Recall the multilayer perceptron with a hidden layer and 5 hidden units.\n",
    "Its architecture is given by"
   ]
  },
  {
   "cell_type": "markdown",
   "metadata": {
    "origin_pos": 0
   },
   "source": [
    "$$\n",
    "\\begin{aligned}\n",
    "    \\mathbf{h} & = \\sigma(\\mathbf{W}_1 \\mathbf{x} + \\mathbf{b}_1), \\\\\n",
    "    \\mathbf{o} & = \\mathbf{W}_2 \\mathbf{h} + \\mathbf{b}_2, \\\\\n",
    "    \\hat{\\mathbf{y}} & = \\mathrm{softmax}(\\mathbf{o}).\n",
    "\\end{aligned}\n",
    "$$"
   ]
  },
  {
   "cell_type": "markdown",
   "metadata": {
    "origin_pos": 0
   },
   "source": [
    "When we apply dropout to a hidden layer,\n",
    "zeroing out each hidden unit with probability $p$,\n",
    "the result can be viewed as a network\n",
    "containing only a subset of the original neurons.\n",
    "In the following figure, $h_2$ and $h_5$ are removed.\n",
    "Consequently, the calculation of $y$\n",
    "no longer depends on $h_2$ and $h_5$\n",
    "and their respective gradient also vanishes\n",
    "when performing backprop.\n",
    "In this way, the calculation of the output layer\n",
    "cannot be overly dependent on any\n",
    "one element of $h_1, \\ldots, h_5$."
   ]
  },
  {
   "cell_type": "markdown",
   "metadata": {
    "origin_pos": 0
   },
   "source": [
    "![MLP before and after dropout](https://doc.shiyanlou.com/courses/2777/246442/d1483d304d79c41efe67b018a349ff9f-1)"
   ]
  },
  {
   "cell_type": "markdown",
   "metadata": {
    "origin_pos": 0
   },
   "source": [
    "Typically, ***we disable dropout at test time***.\n",
    "Given a trained model and a new example,\n",
    "we do not drop out any nodes\n",
    "(and thus do not need to normalize).\n",
    "However, there are some exceptions:\n",
    "some researchers use dropout at test time as a heuristic\n",
    "for estimating the *uncertainty* of neural network predictions:\n",
    "if the predictions agree across many different dropout masks,\n",
    "then we might say that the network is more confident.\n",
    "For now we will put off uncertainty estimation\n",
    "for subsequent chapters and volumes."
   ]
  },
  {
   "cell_type": "markdown",
   "metadata": {
    "origin_pos": 0
   },
   "source": [
    "### Implementation from Scratch"
   ]
  },
  {
   "cell_type": "markdown",
   "metadata": {
    "origin_pos": 0
   },
   "source": [
    "To implement the dropout function for a single layer,\n",
    "we must draw as many samples\n",
    "from a Bernoulli (binary) random variable\n",
    "as our layer has dimensions,\n",
    "where the random variable takes value $1$ (keep)\n",
    "with probability $1-p$ and $0$ (drop) with probability $p$.\n",
    "One easy way to implement this is to first draw samples\n",
    "from the uniform distribution $U[0, 1]$.\n",
    "Then we can keep those nodes for which the corresponding\n",
    "sample is greater than $p$, dropping the rest."
   ]
  },
  {
   "cell_type": "markdown",
   "metadata": {
    "origin_pos": 0
   },
   "source": [
    "In the following code, we implement a `dropout_layer` function\n",
    "that drops out the elements in the tensor input `X`\n",
    "with probability `dropout`,\n",
    "rescaling the remainder as described above\n",
    "(dividing the survivors by `1.0-dropout`)."
   ]
  },
  {
   "cell_type": "code",
   "execution_count": null,
   "metadata": {
    "origin_pos": 2,
    "tab": [
     "pytorch"
    ]
   },
   "outputs": [],
   "source": [
    "import torch\n",
    "from torch import nn\n",
    "import torchvision\n",
    "from torch.utils import data\n",
    "from torchvision import transforms\n",
    "\n",
    "from IPython import display\n",
    "%matplotlib inline\n",
    "from matplotlib import pyplot as plt"
   ]
  },
  {
   "cell_type": "code",
   "execution_count": null,
   "metadata": {},
   "outputs": [],
   "source": []
  },
  {
   "cell_type": "markdown",
   "metadata": {},
   "source": [
    "Before we implement a `dropout_layer`, we define two functions and one class for visualization. We have used these before, so we do not give a detailed introduction here."
   ]
  },
  {
   "cell_type": "code",
   "execution_count": null,
   "metadata": {},
   "outputs": [],
   "source": [
    "def use_svg_display():  #@save\n",
    "    \"\"\"Use the svg format to display a plot in Jupyter.\"\"\"\n",
    "    display.set_matplotlib_formats('svg')\n",
    "    \n",
    "def set_axes(axes, xlabel, ylabel, xlim, ylim, xscale, yscale, legend):\n",
    "    \"\"\"Set the axes for matplotlib.\"\"\"\n",
    "    axes.set_xlabel(xlabel)\n",
    "    axes.set_ylabel(ylabel)\n",
    "    axes.set_xscale(xscale)\n",
    "    axes.set_yscale(yscale)\n",
    "    axes.set_xlim(xlim)\n",
    "    axes.set_ylim(ylim)\n",
    "    if legend:\n",
    "        axes.legend(legend)\n",
    "    axes.grid()\n",
    "\n",
    "class Animator:  #@save\n",
    "    \"\"\"For plotting data in animation.\"\"\"\n",
    "    def __init__(self, xlabel=None, ylabel=None, legend=None, xlim=None,\n",
    "                 ylim=None, xscale='linear', yscale='linear',\n",
    "                 fmts=('-', 'm--', 'g-.', 'r:'), nrows=1, ncols=1,\n",
    "                 figsize=(3.5, 2.5)):\n",
    "        # Incrementally plot multiple lines\n",
    "        if legend is None:\n",
    "            legend = []\n",
    "        use_svg_display()\n",
    "        self.fig, self.axes = plt.subplots(nrows, ncols, figsize=figsize)\n",
    "        if nrows * ncols == 1:\n",
    "            self.axes = [self.axes, ]\n",
    "        # Use a lambda function to capture arguments\n",
    "        self.config_axes = lambda: set_axes(\n",
    "            self.axes[0], xlabel, ylabel, xlim, ylim, xscale, yscale, legend)\n",
    "        self.X, self.Y, self.fmts = None, None, fmts\n",
    "\n",
    "    def add(self, x, y):\n",
    "        # Add multiple data points into the figure\n",
    "        if not hasattr(y, \"__len__\"):\n",
    "            y = [y]\n",
    "        n = len(y)\n",
    "        if not hasattr(x, \"__len__\"):\n",
    "            x = [x] * n\n",
    "        if not self.X:\n",
    "            self.X = [[] for _ in range(n)]\n",
    "        if not self.Y:\n",
    "            self.Y = [[] for _ in range(n)]\n",
    "        for i, (a, b) in enumerate(zip(x, y)):\n",
    "            if a is not None and b is not None:\n",
    "                self.X[i].append(a)\n",
    "                self.Y[i].append(b)\n",
    "        self.axes[0].cla()\n",
    "        for x, y, fmt in zip(self.X, self.Y, self.fmts):\n",
    "            self.axes[0].plot(x, y, fmt)\n",
    "        self.config_axes()\n",
    "        display.display(self.fig)\n",
    "        display.clear_output(wait=True)"
   ]
  },
  {
   "cell_type": "code",
   "execution_count": null,
   "metadata": {},
   "outputs": [],
   "source": []
  },
  {
   "cell_type": "markdown",
   "metadata": {},
   "source": [
    "Then we can define the function `dropout_layer`."
   ]
  },
  {
   "cell_type": "code",
   "execution_count": null,
   "metadata": {},
   "outputs": [],
   "source": [
    "def dropout_layer(X, dropout):\n",
    "    assert 0 <= dropout <= 1\n",
    "    # In this case, all elements are dropped out\n",
    "    if dropout == 1:\n",
    "        return torch.zeros_like(X)\n",
    "    # In this case, all elements are kept\n",
    "    if dropout == 0:\n",
    "        return X\n",
    "    mask = (torch.Tensor(X.shape).uniform_(0, 1) > dropout).float()\n",
    "    return mask * X / (1.0-dropout)"
   ]
  },
  {
   "cell_type": "code",
   "execution_count": null,
   "metadata": {},
   "outputs": [],
   "source": []
  },
  {
   "cell_type": "markdown",
   "metadata": {
    "origin_pos": 4
   },
   "source": [
    "We can test out the `dropout_layer` function on a few examples.\n",
    "In the following lines of code,\n",
    "we pass our input `X` through the dropout operation,\n",
    "with probabilities 0, 0.5, and 1, respectively.\n"
   ]
  },
  {
   "cell_type": "code",
   "execution_count": null,
   "metadata": {
    "origin_pos": 6,
    "tab": [
     "pytorch"
    ]
   },
   "outputs": [],
   "source": [
    "X= torch.arange(16, dtype = torch.float32).reshape((2, 8))\n",
    "print(X)\n",
    "print(dropout_layer(X, 0.))\n",
    "print(dropout_layer(X, 0.5))\n",
    "print(dropout_layer(X, 1.))"
   ]
  },
  {
   "cell_type": "code",
   "execution_count": null,
   "metadata": {},
   "outputs": [],
   "source": []
  },
  {
   "cell_type": "markdown",
   "metadata": {
    "origin_pos": 8
   },
   "source": [
    "### Defining Model Parameters"
   ]
  },
  {
   "cell_type": "markdown",
   "metadata": {
    "origin_pos": 8
   },
   "source": [
    "Again, we work with the Fashion-MNIST dataset.\n",
    "We define a multilayer perceptron with\n",
    "two hidden layers containing 256 outputs each."
   ]
  },
  {
   "cell_type": "code",
   "execution_count": null,
   "metadata": {
    "origin_pos": 10,
    "tab": [
     "pytorch"
    ]
   },
   "outputs": [],
   "source": [
    "num_inputs, num_outputs, num_hiddens1, num_hiddens2 = 784, 10, 256, 256"
   ]
  },
  {
   "cell_type": "code",
   "execution_count": null,
   "metadata": {},
   "outputs": [],
   "source": []
  },
  {
   "cell_type": "markdown",
   "metadata": {
    "origin_pos": 12
   },
   "source": [
    "### Defining the Model"
   ]
  },
  {
   "cell_type": "markdown",
   "metadata": {
    "origin_pos": 12
   },
   "source": [
    "The model below applies dropout to the output\n",
    "of each hidden layer (following the activation function).\n",
    "We can set dropout probabilities for each layer separately.\n",
    "A common trend is to set\n",
    "a lower dropout probability closer to the input layer.\n",
    "Below we set it to 0.2 and 0.5 for the first\n",
    "and second hidden layer respectively.\n",
    "By checking `is_training` described in :numref:`sec_autograd`,\n",
    "we can ensure that dropout is only active during training."
   ]
  },
  {
   "cell_type": "code",
   "execution_count": null,
   "metadata": {
    "origin_pos": 14,
    "tab": [
     "pytorch"
    ]
   },
   "outputs": [],
   "source": [
    "dropout1, dropout2 = 0.2, 0.5\n",
    "\n",
    "class Net(nn.Module):\n",
    "    def __init__(self, num_inputs, num_outputs, num_hiddens1, num_hiddens2, is_training = True):\n",
    "        super(Net, self).__init__()\n",
    "\n",
    "        self.num_inputs = num_inputs\n",
    "        self.is_training = is_training\n",
    "\n",
    "        self.lin1 = nn.Linear(num_inputs, num_hiddens1)\n",
    "        self.lin2 = nn.Linear(num_hiddens1, num_hiddens2)\n",
    "        self.lin3 = nn.Linear(num_hiddens2, num_outputs)\n",
    "\n",
    "        self.relu = nn.ReLU()\n",
    "\n",
    "    def forward(self, X):\n",
    "        H1 = self.relu(self.lin1(X.reshape((-1, self.num_inputs))))\n",
    "        # Use dropout only when training the model\n",
    "        if self.is_training == True:\n",
    "            # Add a dropout layer after the first fully connected layer\n",
    "            H1 = dropout_layer(H1, dropout1)\n",
    "        H2 = self.relu(self.lin2(H1))\n",
    "        if self.is_training == True:\n",
    "            # Add a dropout layer after the second fully connected layer\n",
    "            H2 = dropout_layer(H2, dropout2)\n",
    "        out = self.lin3(H2)\n",
    "        return out\n",
    "\n",
    "\n",
    "net = Net(num_inputs, num_outputs, num_hiddens1, num_hiddens2)"
   ]
  },
  {
   "cell_type": "code",
   "execution_count": null,
   "metadata": {},
   "outputs": [],
   "source": []
  },
  {
   "cell_type": "markdown",
   "metadata": {
    "origin_pos": 16
   },
   "source": [
    "### Training and Testing"
   ]
  },
  {
   "cell_type": "markdown",
   "metadata": {
    "origin_pos": 16
   },
   "source": [
    "This is similar to the training and testing of multilayer perceptrons described previously. We download the dataset from Aliyun first."
   ]
  },
  {
   "cell_type": "code",
   "execution_count": null,
   "metadata": {},
   "outputs": [],
   "source": [
    "!wget -nc \"https://labfile.oss.aliyuncs.com/courses/2777/FashionMNIST.zip\"\n",
    "!unzip -o \"FashionMNIST.zip\""
   ]
  },
  {
   "cell_type": "code",
   "execution_count": null,
   "metadata": {},
   "outputs": [],
   "source": []
  },
  {
   "cell_type": "markdown",
   "metadata": {},
   "source": [
    "Then we define the function named `load_data_fashion_mnist` to load Fashion-MNIST dataset into memory."
   ]
  },
  {
   "cell_type": "code",
   "execution_count": null,
   "metadata": {},
   "outputs": [],
   "source": [
    "def load_data_fashion_mnist(batch_size, resize=None):\n",
    "    \"\"\"Download the Fashion-MNIST dataset and then load it into memory.\"\"\"\n",
    "    trans = [transforms.ToTensor()]\n",
    "    if resize:\n",
    "        trans.insert(0, transforms.Resize(resize))\n",
    "    trans = transforms.Compose(trans)\n",
    "    mnist_train = torchvision.datasets.FashionMNIST(\n",
    "        root=\"./\", train=True, transform=trans, download=True)\n",
    "    mnist_test = torchvision.datasets.FashionMNIST(\n",
    "        root=\"./\", train=False, transform=trans, download=True)\n",
    "    return (data.DataLoader(mnist_train, batch_size, shuffle=True,\n",
    "                            num_workers=1),\n",
    "            data.DataLoader(mnist_test, batch_size, shuffle=False,\n",
    "                            num_workers=1))"
   ]
  },
  {
   "cell_type": "code",
   "execution_count": null,
   "metadata": {},
   "outputs": [],
   "source": []
  },
  {
   "cell_type": "markdown",
   "metadata": {},
   "source": [
    "Then we define some functions to train the model, which we have used in the previous section."
   ]
  },
  {
   "cell_type": "code",
   "execution_count": null,
   "metadata": {},
   "outputs": [],
   "source": [
    "class Accumulator:\n",
    "    \"\"\"For accumulating sums over `n` variables.\"\"\"\n",
    "    def __init__(self, n):\n",
    "        self.data = [0.0] * n\n",
    "\n",
    "    def add(self, *args):\n",
    "        self.data = [a + float(b) for a, b in zip(self.data, args)]\n",
    "\n",
    "    def reset(self):\n",
    "        self.data = [0.0] * len(self.data)\n",
    "\n",
    "    def __getitem__(self, idx):\n",
    "        return self.data[idx]\n",
    "\n",
    "def accuracy(y_hat, y):\n",
    "    \"\"\"Compute the number of correct predictions.\"\"\"\n",
    "    if len(y_hat.shape) > 1 and y_hat.shape[1] > 1:\n",
    "        y_hat = y_hat.argmax(axis=1)\n",
    "    return float((y_hat.type(y.dtype) == y).sum())\n",
    "\n",
    "def evaluate_accuracy(net, data_iter): \n",
    "    \"\"\"Compute the accuracy for a model on a dataset.\"\"\"\n",
    "    metric = Accumulator(2)  # No. of correct predictions, no. of predictions\n",
    "    for _, (X, y) in enumerate(data_iter):\n",
    "        metric.add(accuracy(net(X), y), sum(y.shape))\n",
    "    return metric[0] / metric[1]\n",
    "\n",
    "def train_epoch_ch3(net, train_iter, loss, updater):\n",
    "    \"\"\"The training loop defined in Chapter 3.\"\"\"\n",
    "    # Sum of training loss, sum of training accuracy, no. of examples\n",
    "    metric = Accumulator(3)\n",
    "    for X, y in train_iter:\n",
    "        # Compute gradients and update parameters\n",
    "        y_hat = net(X)\n",
    "        l = loss(y_hat, y)\n",
    "        if isinstance(updater, torch.optim.Optimizer):\n",
    "            updater.zero_grad()\n",
    "            l.backward()\n",
    "            updater.step()\n",
    "            metric.add(float(l)*len(y), accuracy(y_hat, y), y.size().numel())\n",
    "        else:\n",
    "            l.sum().backward()\n",
    "            updater(X.shape[0])\n",
    "            metric.add(float(l.sum()), accuracy(y_hat, y), y.size().numel())\n",
    "    # Return training loss and training accuracy\n",
    "    return metric[0] / metric[2], metric[1] / metric[2]\n",
    "\n",
    "\n",
    "def train_ch3(net, train_iter, test_iter, loss, num_epochs, updater): \n",
    "    \"\"\"Train a model (defined in Chapter 3).\"\"\"\n",
    "    animator = Animator(xlabel='epoch', xlim=[1, num_epochs], ylim=[0.3, 0.9],\n",
    "                        legend=['train loss', 'train acc', 'test acc'])\n",
    "    for epoch in range(num_epochs):\n",
    "        train_metrics = train_epoch_ch3(net, train_iter, loss, updater)\n",
    "        test_acc = evaluate_accuracy(net, test_iter)\n",
    "        animator.add(epoch + 1, train_metrics + (test_acc,))\n",
    "    train_loss, train_acc = train_metrics\n",
    "    assert train_loss < 0.5, train_loss\n",
    "    assert train_acc <= 1 and train_acc > 0.7, train_acc\n",
    "    assert test_acc <= 1 and test_acc > 0.7, test_acc"
   ]
  },
  {
   "cell_type": "code",
   "execution_count": null,
   "metadata": {},
   "outputs": [],
   "source": []
  },
  {
   "cell_type": "markdown",
   "metadata": {},
   "source": [
    "After that, we can train our model defined above."
   ]
  },
  {
   "cell_type": "code",
   "execution_count": null,
   "metadata": {
    "origin_pos": 18,
    "tab": [
     "pytorch"
    ]
   },
   "outputs": [],
   "source": [
    "num_epochs, lr, batch_size = 10, 0.5, 256\n",
    "loss = nn.CrossEntropyLoss()\n",
    "train_iter, test_iter = load_data_fashion_mnist(batch_size)\n",
    "trainer = torch.optim.SGD(net.parameters(), lr=lr)\n",
    "train_ch3(net, train_iter, test_iter, loss, num_epochs, trainer)"
   ]
  },
  {
   "cell_type": "code",
   "execution_count": null,
   "metadata": {},
   "outputs": [],
   "source": []
  },
  {
   "cell_type": "markdown",
   "metadata": {
    "origin_pos": 20
   },
   "source": [
    "### Concise Implementation"
   ]
  },
  {
   "cell_type": "markdown",
   "metadata": {
    "origin_pos": 20
   },
   "source": [
    "With the high-level APIs, all we need to do is add a `Dropout` layer\n",
    "after each fully-connected layer,\n",
    "passing in the dropout probability\n",
    "as the only argument to its constructor.\n",
    "During training, the `Dropout` layer will randomly\n",
    "drop out outputs of the previous layer\n",
    "(or equivalently, the inputs to the subsequent layer)\n",
    "according to the specified dropout probability.\n",
    "When not in training mode,\n",
    "the `Dropout` layer simply passes the data through during testing."
   ]
  },
  {
   "cell_type": "code",
   "execution_count": null,
   "metadata": {
    "origin_pos": 22,
    "tab": [
     "pytorch"
    ]
   },
   "outputs": [],
   "source": [
    "dropout1, dropout2 = 0.2, 0.5\n",
    "\n",
    "net = nn.Sequential(nn.Flatten(),\n",
    "        nn.Linear(784, 256),\n",
    "        nn.ReLU(),\n",
    "        # Add a dropout layer after the first fully connected layer\n",
    "        nn.Dropout(dropout1),\n",
    "        nn.Linear(256, 256),\n",
    "        nn.ReLU(),\n",
    "        # Add a dropout layer after the second fully connected layer\n",
    "        nn.Dropout(dropout2),\n",
    "        nn.Linear(256, 10))\n",
    "\n",
    "def init_weights(m):\n",
    "    if type(m) == nn.Linear:\n",
    "        torch.nn.init.normal_(m.weight, std=0.01)\n",
    "\n",
    "net.apply(init_weights)"
   ]
  },
  {
   "cell_type": "code",
   "execution_count": null,
   "metadata": {},
   "outputs": [],
   "source": []
  },
  {
   "cell_type": "markdown",
   "metadata": {
    "origin_pos": 24
   },
   "source": [
    "Next, we train and test the model.\n"
   ]
  },
  {
   "cell_type": "code",
   "execution_count": null,
   "metadata": {
    "origin_pos": 26,
    "tab": [
     "pytorch"
    ]
   },
   "outputs": [],
   "source": [
    "trainer = torch.optim.SGD(net.parameters(), lr=lr)\n",
    "train_ch3(net, train_iter, test_iter, loss, num_epochs, trainer)"
   ]
  },
  {
   "cell_type": "code",
   "execution_count": null,
   "metadata": {},
   "outputs": [],
   "source": []
  },
  {
   "cell_type": "markdown",
   "metadata": {
    "origin_pos": 28
   },
   "source": [
    "### Summary"
   ]
  },
  {
   "cell_type": "markdown",
   "metadata": {
    "origin_pos": 28
   },
   "source": [
    "* Beyond controlling the number of dimensions and the size of the weight vector, dropout is yet another tool to avoid overfitting. Often all three are used jointly.\n",
    "* Dropout replaces an activation $h$ with a random variable $h'$ with expected value $h$ and with variance given by the dropout probability $p$.\n",
    "* Dropout is only used during training."
   ]
  },
  {
   "cell_type": "markdown",
   "metadata": {
    "origin_pos": 28
   },
   "source": [
    "### Exercises"
   ]
  },
  {
   "cell_type": "markdown",
   "metadata": {
    "origin_pos": 28
   },
   "source": [
    "1. What happens if you change the dropout probabilities for layers 1 and 2? In particular, what happens if you switch the ones for both layers? Design an experiment to answer these questions, describe your results quantitatively, and summarize the qualitative takeaways.\n",
    "1. Increase the number of epochs and compare the results obtained when using dropout with those when not using it.\n",
    "1. What is the variance of the activations in each hidden layer when dropout is and is not applied? Draw a plot to show how this quantity evolves over time for both models.\n",
    "1. Why is dropout not typically used at test time?\n",
    "1. Using the model in this section as an example, compare the effects of using dropout and weight decay. What happens when dropout and weight decay are used at the same time? Are the results additive, are there diminished returns or (worse), do they cancel each other out?\n",
    "1. What happens if we apply dropout to the individual weights of the weight matrix rather than the activations?\n",
    "1. Invent another technique for injecting random noise at each layer that is different from the standard dropout technique. Can you develop a method that outperforms dropout on the Fashion-MNIST dataset (for a fixed architecture)?"
   ]
  },
  {
   "cell_type": "markdown",
   "metadata": {
    "origin_pos": 30,
    "tab": [
     "pytorch"
    ]
   },
   "source": [
    "[Discussions](https://discuss.d2l.ai/t/101)\n"
   ]
  }
 ],
 "metadata": {
  "kernelspec": {
   "display_name": "Python 3",
   "language": "python",
   "name": "python3"
  },
  "language_info": {
   "codemirror_mode": {
    "name": "ipython",
    "version": 3
   },
   "file_extension": ".py",
   "mimetype": "text/x-python",
   "name": "python",
   "nbconvert_exporter": "python",
   "pygments_lexer": "ipython3",
   "version": "3.7.1"
  }
 },
 "nbformat": 4,
 "nbformat_minor": 4
}

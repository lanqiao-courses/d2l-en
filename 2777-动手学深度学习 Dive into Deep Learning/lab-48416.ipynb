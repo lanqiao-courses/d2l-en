{
 "cells": [
  {
   "cell_type": "markdown",
   "metadata": {
    "origin_pos": 0
   },
   "source": [
    "## Linear Regression"
   ]
  },
  {
   "cell_type": "markdown",
   "metadata": {
    "origin_pos": 0
   },
   "source": [
    "*Regression* refers to a set of methods for modeling\n",
    "the relationship between one or more independent variables\n",
    "and a dependent variable.\n",
    "In the natural sciences and social sciences,\n",
    "the purpose of regression is most often to\n",
    "*characterize* the relationship between the inputs and outputs.\n",
    "Machine learning, on the other hand,\n",
    "is most often concerned with *prediction*."
   ]
  },
  {
   "cell_type": "markdown",
   "metadata": {
    "origin_pos": 0
   },
   "source": [
    "Regression problems pop up whenever we want to predict a numerical value.\n",
    "Common examples include predicting prices (of homes, stocks, etc.),\n",
    "predicting length of stay (for patients in the hospital),\n",
    "demand forecasting (for retail sales), among countless others.\n",
    "Not every prediction problem is a classic regression problem.\n",
    "In subsequent sections, we will introduce classification problems,\n",
    "where the goal is to predict membership among a set of categories."
   ]
  },
  {
   "cell_type": "markdown",
   "metadata": {
    "origin_pos": 0
   },
   "source": [
    "### Basic Elements of Linear Regression"
   ]
  },
  {
   "cell_type": "markdown",
   "metadata": {
    "origin_pos": 0
   },
   "source": [
    "*Linear regression* may be both the simplest\n",
    "and most popular among the standard tools to regression.\n",
    "Dating back to the dawn of the 19th century,\n",
    "linear regression flows from a few simple assumptions.\n",
    "First, we assume that the relationship between\n",
    "the independent variables $\\mathbf{x}$ and the dependent variable $y$ is linear,\n",
    "i.e., that $y$ can be expressed as a weighted sum\n",
    "of the elements in $\\mathbf{x}$,\n",
    "given some noise on the observations.\n",
    "Second, we assume that any noise is well-behaved\n",
    "(following a Gaussian distribution)."
   ]
  },
  {
   "cell_type": "markdown",
   "metadata": {
    "origin_pos": 0
   },
   "source": [
    "To motivate the approach, let us start with a running example.\n",
    "Suppose that we wish to estimate the prices of houses (in dollars)\n",
    "based on their area (in square feet) and age (in years).\n",
    "To actually fit a model for predicting house prices,\n",
    "we would need to get our hands on a dataset\n",
    "consisting of sales for which we know\n",
    "the sale price, area, and age for each home.\n",
    "In the terminology of machine learning,\n",
    "the dataset is called a *training dataset* or *training set*,\n",
    "and each row (here the data corresponding to one sale)\n",
    "is called an *example* (or *data instance*, *data point*, *sample*).\n",
    "The thing we are trying to predict (price)\n",
    "is called a *label* (or *target*).\n",
    "The independent variables (age and area)\n",
    "upon which the predictions are based\n",
    "are called *features* (or *covariates*)."
   ]
  },
  {
   "cell_type": "markdown",
   "metadata": {
    "origin_pos": 0
   },
   "source": [
    "Typically, we will use $n$ to denote\n",
    "the number of examples in our dataset.\n",
    "We index the data instances by $i$, denoting each input\n",
    "as $\\mathbf{x}^{(i)} = [x_1^{(i)}, x_2^{(i)}]^\\top$\n",
    "and the corresponding label as $y^{(i)}$."
   ]
  },
  {
   "cell_type": "markdown",
   "metadata": {
    "origin_pos": 0
   },
   "source": [
    "### Linear Model"
   ]
  },
  {
   "cell_type": "markdown",
   "metadata": {
    "origin_pos": 0
   },
   "source": [
    "The linearity assumption just says that the target (price)\n",
    "can be expressed as a weighted sum of the features (area and age):"
   ]
  },
  {
   "cell_type": "markdown",
   "metadata": {
    "origin_pos": 0
   },
   "source": [
    "$$\\mathrm{price} = w_{\\mathrm{area}} \\cdot \\mathrm{area} + w_{\\mathrm{age}} \\cdot \\mathrm{age} + b.$$"
   ]
  },
  {
   "cell_type": "markdown",
   "metadata": {
    "origin_pos": 0
   },
   "source": [
    "In previous equation, $w_{\\mathrm{area}}$ and $w_{\\mathrm{age}}$\n",
    "are called *weights*, and $b$ is called a *bias*\n",
    "(also called an *offset* or *intercept*).\n",
    "The weights determine the influence of each feature\n",
    "on our prediction and the bias just says\n",
    "what value the predicted price should take\n",
    "when all of the features take value 0.\n",
    "Even if we will never see any homes with zero area,\n",
    "or that are precisely zero years old,\n",
    "we still need the bias or else we will\n",
    "limit the expressivity of our model.\n",
    "Strictly speaking, previous equation is an *affine transformation*\n",
    "of input features,\n",
    "which is characterized by\n",
    "a *linear transformation* of features via weighted sum, combined with \n",
    "a *translation* via the added bias."
   ]
  },
  {
   "cell_type": "markdown",
   "metadata": {
    "origin_pos": 0
   },
   "source": [
    "Given a dataset, our goal is to choose\n",
    "the weights $\\mathbf{w}$ and the bias $b$ such that on average,\n",
    "the predictions made according to our model\n",
    "best fit the true prices observed in the data.\n",
    "Models whose output prediction\n",
    "is determined by the affine transformation of input features\n",
    "are *linear models*,\n",
    "where the affine transformation is specified by the chosen weights and bias."
   ]
  },
  {
   "cell_type": "markdown",
   "metadata": {
    "origin_pos": 0
   },
   "source": [
    "In disciplines where it is common to focus\n",
    "on datasets with just a few features,\n",
    "explicitly expressing models long-form like this is common.\n",
    "In machine learning, we usually work with high-dimensional datasets,\n",
    "so it is more convenient to employ linear algebra notation.\n",
    "When our inputs consist of $d$ features,\n",
    "we express our prediction $\\hat{y}$ (in general the \"hat\" symbol denotes estimates) as"
   ]
  },
  {
   "cell_type": "markdown",
   "metadata": {
    "origin_pos": 0
   },
   "source": [
    "$$\\hat{y} = w_1  x_1 + ... + w_d  x_d + b.$$"
   ]
  },
  {
   "cell_type": "markdown",
   "metadata": {
    "origin_pos": 0
   },
   "source": [
    "Collecting all features into a vector $\\mathbf{x} \\in \\mathbb{R}^d$\n",
    "and all weights into a vector $\\mathbf{w} \\in \\mathbb{R}^d$,\n",
    "we can express our model compactly using a dot product:"
   ]
  },
  {
   "cell_type": "markdown",
   "metadata": {
    "origin_pos": 0
   },
   "source": [
    "$$\\hat{y} = \\mathbf{w}^\\top \\mathbf{x} + b.$$"
   ]
  },
  {
   "cell_type": "markdown",
   "metadata": {
    "origin_pos": 0
   },
   "source": [
    "In previous equation, the vector $\\mathbf{x}$ corresponds to features of a single data instance.\n",
    "We will often find it convenient\n",
    "to refer to features of our entire dataset of $n$ examples\n",
    "via the *design matrix* $\\mathbf{X} \\in \\mathbb{R}^{n \\times d}$.\n",
    "Here, $\\mathbf{X}$ contains one row for every example\n",
    "and one column for every feature."
   ]
  },
  {
   "cell_type": "markdown",
   "metadata": {
    "origin_pos": 0
   },
   "source": [
    "For a collection of features $\\mathbf{X}$,\n",
    "the predictions $\\hat{\\mathbf{y}} \\in \\mathbb{R}^n$\n",
    "can be expressed via the matrix-vector product:"
   ]
  },
  {
   "cell_type": "markdown",
   "metadata": {
    "origin_pos": 0
   },
   "source": [
    "$${\\hat{\\mathbf{y}}} = \\mathbf{X} \\mathbf{w} + b,$$"
   ]
  },
  {
   "cell_type": "markdown",
   "metadata": {
    "origin_pos": 0
   },
   "source": [
    "where broadcasting is applied during the summation.\n",
    "Given features of a training dataset $\\mathbf{X}$\n",
    "and corresponding (known) labels $\\mathbf{y}$,\n",
    "the goal of linear regression is to find\n",
    "the weight vector $\\mathbf{w}$ and the bias term $b$\n",
    "that given features of a new data instance\n",
    "sampled from the same distribution as $\\mathbf{X}$,\n",
    "the new data instance's label will (in expectation) be predicted with the lowest error."
   ]
  },
  {
   "cell_type": "markdown",
   "metadata": {
    "origin_pos": 0
   },
   "source": [
    "Even if we believe that the best model for\n",
    "predicting $y$ given $\\mathbf{x}$ is linear,\n",
    "we would not expect to find a real-world dataset of $n$ examples where\n",
    "$y^{(i)}$ exactly equals $\\mathbf{w}^\\top \\mathbf{x}^{(i)}+b$\n",
    "for all $1 \\leq i \\leq n$.\n",
    "For example, whatever instruments we use to observe\n",
    "the features $\\mathbf{X}$ and labels $\\mathbf{y}$\n",
    "might suffer small amount of measurement error.\n",
    "Thus, even when we are confident\n",
    "that the underlying relationship is linear,\n",
    "we will incorporate a noise term to account for such errors."
   ]
  },
  {
   "cell_type": "markdown",
   "metadata": {
    "origin_pos": 0
   },
   "source": [
    "Before we can go about searching for the best *parameters* (or *model parameters*) $\\mathbf{w}$ and $b$,\n",
    "we will need two more things:\n",
    "(i) a quality measure for some given model;\n",
    "and (ii) a procedure for updating the model to improve its quality."
   ]
  },
  {
   "cell_type": "markdown",
   "metadata": {
    "origin_pos": 0
   },
   "source": [
    "### Loss Function"
   ]
  },
  {
   "cell_type": "markdown",
   "metadata": {
    "origin_pos": 0
   },
   "source": [
    "Before we start thinking about how *to fit* our model,\n",
    "we need to determine a measure of *fitness*.\n",
    "The *loss function* quantifies the distance\n",
    "between the *real* and *predicted* value of the target.\n",
    "The loss will usually be a non-negative number\n",
    "where smaller values are better\n",
    "and perfect predictions incur a loss of 0.\n",
    "The most popular loss function in regression problems\n",
    "is the squared error.\n",
    "When our prediction for an example $i$ is $\\hat{y}^{(i)}$\n",
    "and the corresponding true label is $y^{(i)}$,\n",
    "the squared error is given by:"
   ]
  },
  {
   "cell_type": "markdown",
   "metadata": {
    "origin_pos": 0
   },
   "source": [
    "$$l^{(i)}(\\mathbf{w}, b) = \\frac{1}{2} \\left(\\hat{y}^{(i)} - y^{(i)}\\right)^2.$$"
   ]
  },
  {
   "cell_type": "markdown",
   "metadata": {
    "origin_pos": 0
   },
   "source": [
    "The constant $\\frac{1}{2}$ makes no real difference\n",
    "but will prove notationally convenient,\n",
    "canceling out when we take the derivative of the loss.\n",
    "Since the training dataset is given to us, and thus out of our control,\n",
    "the empirical error is only a function of the model parameters.\n",
    "To make things more concrete, consider the example below\n",
    "where we plot a regression problem for a one-dimensional case\n",
    "as shown in the following figure."
   ]
  },
  {
   "cell_type": "markdown",
   "metadata": {},
   "source": [
    "![Fit data with a linear model.](https://doc.shiyanlou.com/courses/2777/246442/9c4e0ebb18eda4c4819a9bc6bec77383-1)"
   ]
  },
  {
   "cell_type": "markdown",
   "metadata": {
    "origin_pos": 0
   },
   "source": [
    "Note that large differences between\n",
    "estimates $\\hat{y}^{(i)}$ and observations $y^{(i)}$\n",
    "lead to even larger contributions to the loss,\n",
    "due to the quadratic dependence.\n",
    "To measure the quality of a model on the entire dataset of $n$ examples,\n",
    "we simply average (or equivalently, sum)\n",
    "the losses on the training set."
   ]
  },
  {
   "cell_type": "markdown",
   "metadata": {
    "origin_pos": 0
   },
   "source": [
    "$$L(\\mathbf{w}, b) =\\frac{1}{n}\\sum_{i=1}^n l^{(i)}(\\mathbf{w}, b) =\\frac{1}{n} \\sum_{i=1}^n \\frac{1}{2}\\left(\\mathbf{w}^\\top \\mathbf{x}^{(i)} + b - y^{(i)}\\right)^2.$$"
   ]
  },
  {
   "cell_type": "markdown",
   "metadata": {
    "origin_pos": 0
   },
   "source": [
    "When training the model, we want to find parameters ($\\mathbf{w}^*, b^*$)\n",
    "that minimize the total loss across all training examples:"
   ]
  },
  {
   "cell_type": "markdown",
   "metadata": {
    "origin_pos": 0
   },
   "source": [
    "$$\\mathbf{w}^*, b^* = \\operatorname*{argmin}_{\\mathbf{w}, b}\\  L(\\mathbf{w}, b).$$"
   ]
  },
  {
   "cell_type": "markdown",
   "metadata": {
    "origin_pos": 0
   },
   "source": [
    "### Analytic Solution"
   ]
  },
  {
   "cell_type": "markdown",
   "metadata": {
    "origin_pos": 0
   },
   "source": [
    "Linear regression happens to be an unusually simple optimization problem.\n",
    "Unlike most other models that we will encounter in this book,\n",
    "linear regression can be solved analytically by applying a simple formula.\n",
    "To start, we can subsume the bias $b$ into the parameter $\\mathbf{w}$\n",
    "by appending a column to the design matrix consisting of all ones.\n",
    "Then our prediction problem is to minimize $\\|\\mathbf{y} - \\mathbf{X}\\mathbf{w}\\|^2$.\n",
    "There is just one critical point on the loss surface\n",
    "and it corresponds to the minimum of the loss over the entire domain.\n",
    "Taking the derivative of the loss with respect to $\\mathbf{w}$\n",
    "and setting it equal to zero yields the analytic (closed-form) solution:"
   ]
  },
  {
   "cell_type": "markdown",
   "metadata": {
    "origin_pos": 0
   },
   "source": [
    "$$\\mathbf{w}^* = (\\mathbf X^\\top \\mathbf X)^{-1}\\mathbf X^\\top \\mathbf{y}.$$"
   ]
  },
  {
   "cell_type": "markdown",
   "metadata": {
    "origin_pos": 0
   },
   "source": [
    "While simple problems like linear regression\n",
    "may admit analytic solutions,\n",
    "you should not get used to such good fortune.\n",
    "Although analytic solutions allow for nice mathematical analysis,\n",
    "the requirement of an analytic solution is so restrictive\n",
    "that it would exclude all of deep learning."
   ]
  },
  {
   "cell_type": "markdown",
   "metadata": {
    "origin_pos": 0
   },
   "source": [
    "### Minibatch Stochastic Gradient Descent"
   ]
  },
  {
   "cell_type": "markdown",
   "metadata": {
    "origin_pos": 0
   },
   "source": [
    "Even in cases where we cannot solve the models analytically,\n",
    "it turns out that we can still train models effectively in practice.\n",
    "Moreover, for many tasks, those difficult-to-optimize models\n",
    "turn out to be so much better that figuring out how to train them\n",
    "ends up being well worth the trouble."
   ]
  },
  {
   "cell_type": "markdown",
   "metadata": {
    "origin_pos": 0
   },
   "source": [
    "The key technique for optimizing nearly any deep learning model,\n",
    "and which we will call upon throughout this book,\n",
    "consists of iteratively reducing the error\n",
    "by updating the parameters in the direction\n",
    "that incrementally lowers the loss function.\n",
    "This algorithm is called *gradient descent*."
   ]
  },
  {
   "cell_type": "markdown",
   "metadata": {
    "origin_pos": 0
   },
   "source": [
    "The most naive application of gradient descent\n",
    "consists of taking the derivative of the loss function,\n",
    "which is an average of the losses computed\n",
    "on every single example in the dataset.\n",
    "In practice, this can be extremely slow:\n",
    "we must pass over the entire dataset before making a single update.\n",
    "Thus, we will often settle for sampling a random minibatch of examples\n",
    "every time we need to compute the update,\n",
    "a variant called *minibatch stochastic gradient descent*."
   ]
  },
  {
   "cell_type": "markdown",
   "metadata": {
    "origin_pos": 0
   },
   "source": [
    "In each iteration, we first randomly sample a minibatch $\\mathcal{B}$\n",
    "consisting of a fixed number of training examples.\n",
    "We then compute the derivative (gradient) of the average loss\n",
    "on the minibatch with regard to the model parameters.\n",
    "Finally, we multiply the gradient by a predetermined positive value $\\eta$\n",
    "and subtract the resulting term from the current parameter values."
   ]
  },
  {
   "cell_type": "markdown",
   "metadata": {
    "origin_pos": 0
   },
   "source": [
    "We can express the update mathematically as follows\n",
    "($\\partial$ denotes the partial derivative):"
   ]
  },
  {
   "cell_type": "markdown",
   "metadata": {
    "origin_pos": 0
   },
   "source": [
    "$$(\\mathbf{w},b) \\leftarrow (\\mathbf{w},b) - \\frac{\\eta}{|\\mathcal{B}|} \\sum_{i \\in \\mathcal{B}} \\partial_{(\\mathbf{w},b)} l^{(i)}(\\mathbf{w},b).$$"
   ]
  },
  {
   "cell_type": "markdown",
   "metadata": {
    "origin_pos": 0
   },
   "source": [
    "To summarize, steps of the algorithm are the following:\n",
    "(i) we initialize the values of the model parameters, typically at random;\n",
    "(ii) we iteratively sample random minibatches from the data,\n",
    "updating the parameters in the direction of the negative gradient.\n",
    "For quadratic losses and affine transformations,\n",
    "we can write this out explicitly as follows:"
   ]
  },
  {
   "cell_type": "markdown",
   "metadata": {
    "origin_pos": 0
   },
   "source": [
    "$$\\begin{aligned} \\mathbf{w} &\\leftarrow \\mathbf{w} -   \\frac{\\eta}{|\\mathcal{B}|} \\sum_{i \\in \\mathcal{B}} \\partial_{\\mathbf{w}} l^{(i)}(\\mathbf{w}, b) = \\mathbf{w} - \\frac{\\eta}{|\\mathcal{B}|} \\sum_{i \\in \\mathcal{B}} \\mathbf{x}^{(i)} \\left(\\mathbf{w}^\\top \\mathbf{x}^{(i)} + b - y^{(i)}\\right),\\\\ b &\\leftarrow b -  \\frac{\\eta}{|\\mathcal{B}|} \\sum_{i \\in \\mathcal{B}} \\partial_b l^{(i)}(\\mathbf{w}, b)  = b - \\frac{\\eta}{|\\mathcal{B}|} \\sum_{i \\in \\mathcal{B}} \\left(\\mathbf{w}^\\top \\mathbf{x}^{(i)} + b - y^{(i)}\\right). \\end{aligned}$$"
   ]
  },
  {
   "cell_type": "markdown",
   "metadata": {
    "origin_pos": 0
   },
   "source": [
    "Note that $\\mathbf{w}$ and $\\mathbf{x}$ are vectors in the previous equation.\n",
    "Here, the more elegant vector notation makes the math\n",
    "much more readable than expressing things in terms of coefficients,\n",
    "say $w_1, w_2, \\ldots, w_d$.\n",
    "The set cardinality\n",
    "$|\\mathcal{B}|$ represents\n",
    "the number of examples in each minibatch (the *batch size*)\n",
    "and $\\eta$ denotes the *learning rate*.\n",
    "We emphasize that the values of the batch size and learning rate\n",
    "are manually pre-specified and not typically learned through model training.\n",
    "These parameters that are tunable but not updated\n",
    "in the training loop are called *hyperparameters*.\n",
    "*Hyperparameter tuning* is the process by which hyperparameters are chosen,\n",
    "and typically requires that we adjust them\n",
    "based on the results of the training loop\n",
    "as assessed on a separate *validation dataset* (or *validation set*)."
   ]
  },
  {
   "cell_type": "markdown",
   "metadata": {
    "origin_pos": 0
   },
   "source": [
    "After training for some predetermined number of iterations\n",
    "(or until some other stopping criteria are met),\n",
    "we record the estimated model parameters,\n",
    "denoted $\\hat{\\mathbf{w}}, \\hat{b}$.\n",
    "Note that even if our function is truly linear and noiseless,\n",
    "these parameters will not be the exact minimizers of the loss\n",
    "because, although the algorithm converges slowly towards the minimizers\n",
    "it cannot achieve it exactly in a finite number of steps."
   ]
  },
  {
   "cell_type": "markdown",
   "metadata": {
    "origin_pos": 0
   },
   "source": [
    "Linear regression happens to be a learning problem where there is only one minimum\n",
    "over the entire domain.\n",
    "However, for more complicated models, like deep networks,\n",
    "the loss surfaces contain many minima.\n",
    "Fortunately, for reasons that are not yet fully understood,\n",
    "deep learning practitioners seldom struggle to find parameters\n",
    "that minimize the loss *on training sets*.\n",
    "The more formidable task is to find parameters\n",
    "that will achieve low loss on data\n",
    "that we have not seen before,\n",
    "a challenge called *generalization*.\n",
    "We return to these topics throughout the book."
   ]
  },
  {
   "cell_type": "markdown",
   "metadata": {
    "origin_pos": 0
   },
   "source": [
    "### Making Predictions with the Learned Model"
   ]
  },
  {
   "cell_type": "markdown",
   "metadata": {
    "origin_pos": 0
   },
   "source": [
    "Given the learned linear regression model\n",
    "$\\hat{\\mathbf{w}}^\\top \\mathbf{x} + \\hat{b}$,\n",
    "we can now estimate the price of a new house\n",
    "(not contained in the training data)\n",
    "given its area $x_1$ and age $x_2$.\n",
    "Estimating targets given features is\n",
    "commonly called *prediction* or *inference*."
   ]
  },
  {
   "cell_type": "markdown",
   "metadata": {
    "origin_pos": 0
   },
   "source": [
    "We will try to stick with *prediction* because\n",
    "calling this step *inference*,\n",
    "despite emerging as standard jargon in deep learning,\n",
    "is somewhat of a misnomer.\n",
    "In statistics, *inference* more often denotes\n",
    "estimating parameters based on a dataset.\n",
    "This misuse of terminology is a common source of confusion\n",
    "when deep learning practitioners talk to statisticians."
   ]
  },
  {
   "cell_type": "markdown",
   "metadata": {
    "origin_pos": 0
   },
   "source": [
    "### Vectorization for Speed"
   ]
  },
  {
   "cell_type": "markdown",
   "metadata": {
    "origin_pos": 0
   },
   "source": [
    "When training our models, we typically want to process\n",
    "whole minibatches of examples simultaneously.\n",
    "Doing this efficiently requires that we vectorize the calculations\n",
    "and leverage fast linear algebra libraries\n",
    "rather than writing costly for-loops in Python."
   ]
  },
  {
   "cell_type": "code",
   "execution_count": null,
   "metadata": {
    "origin_pos": 2,
    "tab": [
     "pytorch"
    ]
   },
   "outputs": [],
   "source": [
    "from matplotlib import pyplot as plt\n",
    "%matplotlib inline\n",
    "from IPython import display\n",
    "import math\n",
    "import torch\n",
    "import numpy as np\n",
    "import time"
   ]
  },
  {
   "cell_type": "code",
   "execution_count": null,
   "metadata": {},
   "outputs": [],
   "source": []
  },
  {
   "cell_type": "markdown",
   "metadata": {
    "origin_pos": 4
   },
   "source": [
    "To illustrate why this matters so much,\n",
    "we can consider two methods for adding vectors.\n",
    "To start we instantiate two 10000-dimensional vectors\n",
    "containing all ones.\n",
    "In one method we will loop over the vectors with a Python for-loop.\n",
    "In the other method we will rely on a single call to `+`.\n"
   ]
  },
  {
   "cell_type": "code",
   "execution_count": null,
   "metadata": {
    "origin_pos": 5,
    "tab": [
     "pytorch"
    ]
   },
   "outputs": [],
   "source": [
    "n = 10000\n",
    "a = torch.ones(n)\n",
    "b = torch.ones(n)"
   ]
  },
  {
   "cell_type": "code",
   "execution_count": null,
   "metadata": {},
   "outputs": [],
   "source": []
  },
  {
   "cell_type": "markdown",
   "metadata": {
    "origin_pos": 6
   },
   "source": [
    "Since we will benchmark the running time frequently in this book,\n",
    "let us define a timer.\n"
   ]
  },
  {
   "cell_type": "code",
   "execution_count": null,
   "metadata": {
    "origin_pos": 7,
    "tab": [
     "pytorch"
    ]
   },
   "outputs": [],
   "source": [
    "class Timer:  #@save\n",
    "    \"\"\"Record multiple running times.\"\"\"\n",
    "    def __init__(self):\n",
    "        self.times = []\n",
    "        self.start()\n",
    "\n",
    "    def start(self):\n",
    "        \"\"\"Start the timer.\"\"\"\n",
    "        self.tik = time.time()\n",
    "\n",
    "    def stop(self):\n",
    "        \"\"\"Stop the timer and record the time in a list.\"\"\"\n",
    "        self.times.append(time.time() - self.tik)\n",
    "        return self.times[-1]\n",
    "\n",
    "    def avg(self):\n",
    "        \"\"\"Return the average time.\"\"\"\n",
    "        return sum(self.times) / len(self.times)\n",
    "\n",
    "    def sum(self):\n",
    "        \"\"\"Return the sum of time.\"\"\"\n",
    "        return sum(self.times)\n",
    "\n",
    "    def cumsum(self):\n",
    "        \"\"\"Return the accumulated time.\"\"\"\n",
    "        return np.array(self.times).cumsum().tolist()"
   ]
  },
  {
   "cell_type": "code",
   "execution_count": null,
   "metadata": {},
   "outputs": [],
   "source": []
  },
  {
   "cell_type": "markdown",
   "metadata": {
    "origin_pos": 8
   },
   "source": [
    "Now we can benchmark the workloads.\n",
    "First, we add them, one coordinate at a time,\n",
    "using a for-loop.\n"
   ]
  },
  {
   "cell_type": "code",
   "execution_count": 4,
   "metadata": {
    "origin_pos": 9,
    "tab": [
     "pytorch"
    ]
   },
   "outputs": [
    {
     "data": {
      "text/plain": [
       "'0.11748 sec'"
      ]
     },
     "execution_count": 4,
     "metadata": {},
     "output_type": "execute_result"
    }
   ],
   "source": [
    "c = torch.zeros(n)\n",
    "timer = Timer()\n",
    "for i in range(n):\n",
    "    c[i] = a[i] + b[i]\n",
    "f'{timer.stop():.5f} sec'"
   ]
  },
  {
   "cell_type": "code",
   "execution_count": null,
   "metadata": {},
   "outputs": [],
   "source": []
  },
  {
   "cell_type": "markdown",
   "metadata": {
    "origin_pos": 11
   },
   "source": [
    "Alternatively, we rely on the reloaded `+` operator to compute the elementwise sum.\n"
   ]
  },
  {
   "cell_type": "code",
   "execution_count": 5,
   "metadata": {
    "origin_pos": 12,
    "tab": [
     "pytorch"
    ]
   },
   "outputs": [
    {
     "data": {
      "text/plain": [
       "'0.00025 sec'"
      ]
     },
     "execution_count": 5,
     "metadata": {},
     "output_type": "execute_result"
    }
   ],
   "source": [
    "timer.start()\n",
    "d = a + b\n",
    "f'{timer.stop():.5f} sec'"
   ]
  },
  {
   "cell_type": "code",
   "execution_count": null,
   "metadata": {},
   "outputs": [],
   "source": []
  },
  {
   "cell_type": "markdown",
   "metadata": {
    "origin_pos": 13
   },
   "source": [
    "You probably noticed that the second method\n",
    "is dramatically faster than the first.\n",
    "Vectorizing code often yields order-of-magnitude speedups.\n",
    "Moreover, we push more of the mathematics to the library\n",
    "and need not write as many calculations ourselves,\n",
    "reducing the potential for errors."
   ]
  },
  {
   "cell_type": "markdown",
   "metadata": {
    "origin_pos": 13
   },
   "source": [
    "### The Normal Distribution and Squared Loss"
   ]
  },
  {
   "cell_type": "markdown",
   "metadata": {
    "origin_pos": 13
   },
   "source": [
    "While you can already get your hands dirty using only the information above,\n",
    "in the following we can more formally motivate the square loss objective\n",
    "via assumptions about the distribution of noise."
   ]
  },
  {
   "cell_type": "markdown",
   "metadata": {
    "origin_pos": 13
   },
   "source": [
    "Linear regression was invented by Gauss in 1795,\n",
    "who also discovered the normal distribution (also called the *Gaussian*).\n",
    "It turns out that the connection between\n",
    "the normal distribution and linear regression\n",
    "runs deeper than common parentage.\n",
    "To refresh your memory, the probability density\n",
    "of a normal distribution with mean $\\mu$ and variance $\\sigma^2$ (standard deviation $\\sigma$)\n",
    "is given as"
   ]
  },
  {
   "cell_type": "markdown",
   "metadata": {
    "origin_pos": 13
   },
   "source": [
    "$$p(x) = \\frac{1}{\\sqrt{2 \\pi \\sigma^2}} \\exp\\left(-\\frac{1}{2 \\sigma^2} (x - \\mu)^2\\right).$$"
   ]
  },
  {
   "cell_type": "markdown",
   "metadata": {
    "origin_pos": 13
   },
   "source": [
    "Below we define a Python function to compute the normal distribution."
   ]
  },
  {
   "cell_type": "code",
   "execution_count": 6,
   "metadata": {
    "origin_pos": 14,
    "tab": [
     "pytorch"
    ]
   },
   "outputs": [],
   "source": [
    "def normal(x, mu, sigma):\n",
    "    p = 1 / math.sqrt(2 * math.pi * sigma**2)\n",
    "    return p * np.exp(-0.5 / sigma**2 * (x - mu)**2)"
   ]
  },
  {
   "cell_type": "code",
   "execution_count": null,
   "metadata": {},
   "outputs": [],
   "source": []
  },
  {
   "cell_type": "markdown",
   "metadata": {},
   "source": [
    "Before we visualize the normal distribution, we define plot function. We have used this function in the previous section, here we do not give the detiailed introduction."
   ]
  },
  {
   "cell_type": "code",
   "execution_count": null,
   "metadata": {},
   "outputs": [],
   "source": [
    "def use_svg_display():\n",
    "    \"\"\"Use the svg format to display a plot in Jupyter.\"\"\"\n",
    "    display.set_matplotlib_formats('svg')\n",
    "\n",
    "def set_figsize(figsize=(3.5, 2.5)):\n",
    "    \"\"\"Set the figure size for matplotlib.\"\"\"\n",
    "    use_svg_display()\n",
    "    plt.rcParams['figure.figsize'] = figsize\n",
    "    \n",
    "def set_axes(axes, xlabel, ylabel, xlim, ylim, xscale, yscale, legend):\n",
    "    \"\"\"Set the axes for matplotlib.\"\"\"\n",
    "    axes.set_xlabel(xlabel)\n",
    "    axes.set_ylabel(ylabel)\n",
    "    axes.set_xscale(xscale)\n",
    "    axes.set_yscale(yscale)\n",
    "    axes.set_xlim(xlim)\n",
    "    axes.set_ylim(ylim)\n",
    "    if legend:\n",
    "        axes.legend(legend)\n",
    "    axes.grid()\n",
    "\n",
    "def plot(X, Y=None, xlabel=None, ylabel=None, legend=None, xlim=None,\n",
    "         ylim=None, xscale='linear', yscale='linear',\n",
    "         fmts=('-', 'm--', 'g-.', 'r:'), figsize=(3.5, 2.5), axes=None):\n",
    "    \"\"\"Plot data instances.\"\"\"\n",
    "    if legend is None:\n",
    "        legend = []\n",
    "    set_figsize(figsize)\n",
    "    axes = axes if axes else plt.gca()\n",
    "    # Return True if `X` (tensor or list) has 1 axis\n",
    "    def has_one_axis(X):\n",
    "        return (hasattr(X, \"ndim\") and X.ndim == 1 or isinstance(X, list)\n",
    "                and not hasattr(X[0], \"__len__\"))\n",
    "    if has_one_axis(X):\n",
    "        X = [X]\n",
    "    if Y is None:\n",
    "        X, Y = [[]] * len(X), X\n",
    "    elif has_one_axis(Y):\n",
    "        Y = [Y]\n",
    "    if len(X) != len(Y):\n",
    "        X = X * len(Y)\n",
    "    axes.cla()\n",
    "    for x, y, fmt in zip(X, Y, fmts):\n",
    "        if len(x):\n",
    "            axes.plot(x, y, fmt)\n",
    "        else:\n",
    "            axes.plot(y, fmt)\n",
    "    set_axes(axes, xlabel, ylabel, xlim, ylim, xscale, yscale, legend)"
   ]
  },
  {
   "cell_type": "code",
   "execution_count": null,
   "metadata": {},
   "outputs": [],
   "source": []
  },
  {
   "cell_type": "markdown",
   "metadata": {
    "origin_pos": 15
   },
   "source": [
    "We can now visualize the normal distributions.\n"
   ]
  },
  {
   "cell_type": "code",
   "execution_count": null,
   "metadata": {
    "origin_pos": 16,
    "tab": [
     "pytorch"
    ]
   },
   "outputs": [],
   "source": [
    "# Use numpy again for visualization\n",
    "x = np.arange(-7, 7, 0.01)\n",
    "\n",
    "# Mean and standard deviation pairs\n",
    "params = [(0, 1), (0, 2), (3, 1)]\n",
    "plot(x, [normal(x, mu, sigma) for mu, sigma in params], xlabel='x',\n",
    "         ylabel='p(x)', figsize=(4.5, 2.5),\n",
    "         legend=[f'mean {mu}, std {sigma}' for mu, sigma in params])"
   ]
  },
  {
   "cell_type": "code",
   "execution_count": null,
   "metadata": {},
   "outputs": [],
   "source": []
  },
  {
   "cell_type": "markdown",
   "metadata": {
    "origin_pos": 17
   },
   "source": [
    "As we can see, changing the mean corresponds to a shift along the $x$-axis,\n",
    "and increasing the variance spreads the distribution out, lowering its peak."
   ]
  },
  {
   "cell_type": "markdown",
   "metadata": {
    "origin_pos": 17
   },
   "source": [
    "One way to motivate linear regression with the mean squared error loss function (or simply square loss)\n",
    "is to formally assume that observations arise from noisy observations,\n",
    "where the noise is normally distributed as follows:"
   ]
  },
  {
   "cell_type": "markdown",
   "metadata": {
    "origin_pos": 17
   },
   "source": [
    "$$y = \\mathbf{w}^\\top \\mathbf{x} + b + \\epsilon \\text{ where } \\epsilon \\sim \\mathcal{N}(0, \\sigma^2).$$"
   ]
  },
  {
   "cell_type": "markdown",
   "metadata": {
    "origin_pos": 17
   },
   "source": [
    "Thus, we can now write out the *likelihood*\n",
    "of seeing a particular $y$ for a given $\\mathbf{x}$ via"
   ]
  },
  {
   "cell_type": "markdown",
   "metadata": {
    "origin_pos": 17
   },
   "source": [
    "$$P(y \\mid \\mathbf{x}) = \\frac{1}{\\sqrt{2 \\pi \\sigma^2}} \\exp\\left(-\\frac{1}{2 \\sigma^2} (y - \\mathbf{w}^\\top \\mathbf{x} - b)^2\\right).$$"
   ]
  },
  {
   "cell_type": "markdown",
   "metadata": {
    "origin_pos": 17
   },
   "source": [
    "Now, according to the principle of maximum likelihood,\n",
    "the best values of parameters $\\mathbf{w}$ and $b$ are those\n",
    "that maximize the *likelihood* of the entire dataset:"
   ]
  },
  {
   "cell_type": "markdown",
   "metadata": {
    "origin_pos": 17
   },
   "source": [
    "$$P(\\mathbf y \\mid \\mathbf X) = \\prod_{i=1}^{n} p(y^{(i)}|\\mathbf{x}^{(i)}).$$"
   ]
  },
  {
   "cell_type": "markdown",
   "metadata": {
    "origin_pos": 17
   },
   "source": [
    "Estimators chosen according to the principle of maximum likelihood\n",
    "are called *maximum likelihood estimators*.\n",
    "While, maximizing the product of many exponential functions,\n",
    "might look difficult,\n",
    "we can simplify things significantly, without changing the objective,\n",
    "by maximizing the log of the likelihood instead.\n",
    "For historical reasons, optimizations are more often expressed\n",
    "as minimization rather than maximization.\n",
    "So, without changing anything we can minimize the *negative log-likelihood*\n",
    "$-\\log P(\\mathbf y \\mid \\mathbf X)$.\n",
    "Working out the mathematics gives us:"
   ]
  },
  {
   "cell_type": "markdown",
   "metadata": {
    "origin_pos": 17
   },
   "source": [
    "$$-\\log P(\\mathbf y \\mid \\mathbf X) = \\sum_{i=1}^n \\frac{1}{2} \\log(2 \\pi \\sigma^2) + \\frac{1}{2 \\sigma^2} \\left(y^{(i)} - \\mathbf{w}^\\top \\mathbf{x}^{(i)} - b\\right)^2.$$"
   ]
  },
  {
   "cell_type": "markdown",
   "metadata": {
    "origin_pos": 17
   },
   "source": [
    "Now we just need one more assumption that $\\sigma$ is some fixed constant.\n",
    "Thus we can ignore the first term because\n",
    "it does not depend on $\\mathbf{w}$ or $b$.\n",
    "Now the second term is identical to the squared error loss introduced earlier,\n",
    "except for the multiplicative constant $\\frac{1}{\\sigma^2}$.\n",
    "Fortunately, the solution does not depend on $\\sigma$.\n",
    "It follows that minimizing the mean squared error\n",
    "is equivalent to maximum likelihood estimation\n",
    "of a linear model under the assumption of additive Gaussian noise."
   ]
  },
  {
   "cell_type": "markdown",
   "metadata": {
    "origin_pos": 17
   },
   "source": [
    "### From Linear Regression to Deep Networks"
   ]
  },
  {
   "cell_type": "markdown",
   "metadata": {
    "origin_pos": 17
   },
   "source": [
    "So far we only talked about linear models.\n",
    "While neural networks cover a much richer family of models,\n",
    "we can begin thinking of the linear model\n",
    "as a neural network by expressing it in the language of neural networks.\n",
    "To begin, let us start by rewriting things in a \"layer\" notation."
   ]
  },
  {
   "cell_type": "markdown",
   "metadata": {
    "origin_pos": 17
   },
   "source": [
    "### Neural Network Diagram"
   ]
  },
  {
   "cell_type": "markdown",
   "metadata": {
    "origin_pos": 17
   },
   "source": [
    "Deep learning practitioners like to draw diagrams\n",
    "to visualize what is happening in their models.\n",
    "In the following figure,\n",
    "we depict our linear regression model as a neural network.\n",
    "Note that these diagrams highlight the connectivity pattern\n",
    "such as how each input is connected to the output,\n",
    "but not the values taken by the weights or biases."
   ]
  },
  {
   "cell_type": "markdown",
   "metadata": {
    "origin_pos": 17
   },
   "source": [
    "![Linear regression is a single-layer neural network.](https://doc.shiyanlou.com/courses/2777/246442/d24fd762adbf5e12f5ca1c346d024faf-1)"
   ]
  },
  {
   "cell_type": "markdown",
   "metadata": {
    "origin_pos": 17
   },
   "source": [
    "For the neural network shown in the previous figure,\n",
    "the inputs are $x_1, \\ldots, x_d$,\n",
    "so the *number of inputs* (or *feature dimensionality*) in the input layer is $d$.\n",
    "The output of the network in the previous figure is $o_1$,\n",
    "so the *number of outputs* in the output layer is 1.\n",
    "Note that the input values are all *given*\n",
    "and there is just a single *computed* neuron.\n",
    "Focusing on where computation takes place,\n",
    "conventionally we do not consider the input layer when counting layers.\n",
    "That is to say,\n",
    "the *number of layers* for the neural network in the previous figure is 1.\n",
    "We can think of linear regression models as neural networks\n",
    "consisting of just a single artificial neuron,\n",
    "or as single-layer neural networks."
   ]
  },
  {
   "cell_type": "markdown",
   "metadata": {
    "origin_pos": 17
   },
   "source": [
    "Since for linear regression, every input is connected\n",
    "to every output (in this case there is only one output),\n",
    "we can regard this transformation (the output layer in the previous figure)\n",
    "as a *fully-connected layer* or *dense layer*.\n",
    "We will talk a lot more about networks composed of such layers\n",
    "in the next chapter."
   ]
  },
  {
   "cell_type": "markdown",
   "metadata": {
    "origin_pos": 17
   },
   "source": [
    "### Biology"
   ]
  },
  {
   "cell_type": "markdown",
   "metadata": {
    "origin_pos": 17
   },
   "source": [
    "Since linear regression (invented in 1795)\n",
    "predates computational neuroscience,\n",
    "it might seem anachronistic to describe\n",
    "linear regression as a neural network.\n",
    "To see why linear models were a natural place to begin\n",
    "when the cyberneticists/neurophysiologists\n",
    "Warren McCulloch and Walter Pitts began to develop\n",
    "models of artificial neurons,\n",
    "consider the cartoonish picture\n",
    "of a biological neuron in the following figure, consisting of\n",
    "*dendrites* (input terminals),\n",
    "the *nucleus* (CPU), the *axon* (output wire),\n",
    "and the *axon terminals* (output terminals),\n",
    "enabling connections to other neurons via *synapses*."
   ]
  },
  {
   "cell_type": "markdown",
   "metadata": {
    "origin_pos": 17
   },
   "source": [
    "![The real neuron.](https://doc.shiyanlou.com/courses/2777/246442/625f1b484ae7bc49d2b4442c5d00544d-1)"
   ]
  },
  {
   "cell_type": "markdown",
   "metadata": {
    "origin_pos": 17
   },
   "source": [
    "Information $x_i$ arriving from other neurons\n",
    "(or environmental sensors such as the retina)\n",
    "is received in the dendrites.\n",
    "In particular, that information is weighted by *synaptic weights* $w_i$\n",
    "determining the effect of the inputs\n",
    "(e.g., activation or inhibition via the product $x_i w_i$).\n",
    "The weighted inputs arriving from multiple sources\n",
    "are aggregated in the nucleus as a weighted sum $y = \\sum_i x_i w_i + b$,\n",
    "and this information is then sent for further processing in the axon $y$,\n",
    "typically after some nonlinear processing via $\\sigma(y)$.\n",
    "From there it either reaches its destination (e.g., a muscle)\n",
    "or is fed into another neuron via its dendrites."
   ]
  },
  {
   "cell_type": "markdown",
   "metadata": {
    "origin_pos": 17
   },
   "source": [
    "Certainly, the high-level idea that many such units\n",
    "could be cobbled together with the right connectivity\n",
    "and right learning algorithm,\n",
    "to produce far more interesting and complex behavior\n",
    "than any one neuron alone could express\n",
    "owes to our study of real biological neural systems."
   ]
  },
  {
   "cell_type": "markdown",
   "metadata": {
    "origin_pos": 17
   },
   "source": [
    "At the same time, most research in deep learning today\n",
    "draws little direct inspiration in neuroscience.\n",
    "We invoke Stuart Russell and Peter Norvig who,\n",
    "in their classic AI text book\n",
    "*Artificial Intelligence: A Modern Approach*,\n",
    "pointed out that although airplanes might have been *inspired* by birds,\n",
    "ornithology has not been the primary driver\n",
    "of aeronautics innovation for some centuries.\n",
    "Likewise, inspiration in deep learning these days\n",
    "comes in equal or greater measure from mathematics,\n",
    "statistics, and computer science."
   ]
  },
  {
   "cell_type": "markdown",
   "metadata": {
    "origin_pos": 17
   },
   "source": [
    "### Summary"
   ]
  },
  {
   "cell_type": "markdown",
   "metadata": {
    "origin_pos": 17
   },
   "source": [
    "* Key ingredients in a machine learning model are training data, a loss function, an optimization algorithm, and quite obviously, the model itself.\n",
    "* Vectorizing makes everything better (mostly math) and faster (mostly code).\n",
    "* Minimizing an objective function and performing maximum likelihood estimation can mean the same thing.\n",
    "* Linear regression models are neural networks, too."
   ]
  },
  {
   "cell_type": "markdown",
   "metadata": {
    "origin_pos": 17
   },
   "source": [
    "### Exercises"
   ]
  },
  {
   "cell_type": "markdown",
   "metadata": {
    "origin_pos": 17
   },
   "source": [
    "1. Assume that we have some data $x_1, \\ldots, x_n \\in \\mathbb{R}$. Our goal is to find a constant $b$ such that $\\sum_i (x_i - b)^2$ is minimized.\n",
    "    * Find a analytic solution for the optimal value of $b$.\n",
    "    * How does this problem and its solution relate to the normal distribution?\n",
    "1. Derive the analytic solution to the optimization problem for linear regression with squared error. To keep things simple, you can omit the bias $b$ from the problem (we can do this in principled fashion by adding one column to $\\mathbf X$ consisting of all ones).\n",
    "    * Write out the optimization problem in matrix and vector notation (treat all the data as a single matrix, and all the target values as a single vector).\n",
    "    * Compute the gradient of the loss with respect to $w$.\n",
    "    * Find the analytic solution by setting the gradient equal to zero and solving the matrix equation.\n",
    "    * When might this be better than using stochastic gradient descent? When might this method break?\n",
    "1. Assume that the noise model governing the additive noise $\\epsilon$ is the exponential distribution. That is, $p(\\epsilon) = \\frac{1}{2} \\exp(-|\\epsilon|)$.\n",
    "    * Write out the negative log-likelihood of the data under the model $-\\log P(\\mathbf y \\mid \\mathbf X)$.\n",
    "    * Can you find a closed form solution?\n",
    "    * Suggest a stochastic gradient descent algorithm to solve this problem. What could possibly go wrong (hint: what happens near the stationary point as we keep on updating the parameters)? Can you fix this?"
   ]
  },
  {
   "cell_type": "markdown",
   "metadata": {
    "origin_pos": 19,
    "tab": [
     "pytorch"
    ]
   },
   "source": [
    "[Discussions](https://discuss.d2l.ai/t/258)\n"
   ]
  }
 ],
 "metadata": {
  "kernelspec": {
   "display_name": "Python 3",
   "language": "python",
   "name": "python3"
  },
  "language_info": {
   "codemirror_mode": {
    "name": "ipython",
    "version": 3
   },
   "file_extension": ".py",
   "mimetype": "text/x-python",
   "name": "python",
   "nbconvert_exporter": "python",
   "pygments_lexer": "ipython3",
   "version": "3.7.1"
  }
 },
 "nbformat": 4,
 "nbformat_minor": 4
}

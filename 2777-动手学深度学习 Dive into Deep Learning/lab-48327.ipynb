{
 "cells": [
  {
   "cell_type": "markdown",
   "metadata": {
    "origin_pos": 0
   },
   "source": [
    "## Preface"
   ]
  },
  {
   "cell_type": "markdown",
   "metadata": {
    "origin_pos": 0
   },
   "source": [
    "Just a few years ago, there were no legions of deep learning scientists\n",
    "developing intelligent products and services at major companies and startups.\n",
    "When the youngest among us (the authors) entered the field,\n",
    "machine learning did not command headlines in daily newspapers.\n",
    "Our parents had no idea what machine learning was,\n",
    "let alone why we might prefer it to a career in medicine or law.\n",
    "Machine learning was a forward-looking academic discipline\n",
    "with a narrow set of real-world applications.\n",
    "And those applications, e.g., speech recognition and computer vision,\n",
    "required so much domain knowledge that they were often regarded\n",
    "as separate areas entirely for which machine learning was one small component.\n",
    "Neural networks then, the antecedents of the deep learning models\n",
    "that we focus on in this book, were regarded as outmoded tools."
   ]
  },
  {
   "cell_type": "markdown",
   "metadata": {
    "origin_pos": 0
   },
   "source": [
    "In just the past five years, deep learning has taken the world by surprise,\n",
    "driving rapid progress in fields as diverse as computer vision,\n",
    "natural language processing, automatic speech recognition,\n",
    "reinforcement learning, and statistical modeling.\n",
    "With these advances in hand, we can now build cars that drive themselves\n",
    "with more autonomy than ever before (and less autonomy\n",
    "than some companies might have you believe),\n",
    "smart reply systems that automatically draft the most mundane emails,\n",
    "helping people dig out from oppressively large inboxes,\n",
    "and software agents that dominate the world's best humans\n",
    "at board games like Go, a feat once thought to be decades away.\n",
    "Already, these tools exert ever-wider impacts on industry and society,\n",
    "changing the way movies are made, diseases are diagnosed,\n",
    "and playing a growing role in basic sciences---from astrophysics to biology."
   ]
  },
  {
   "cell_type": "markdown",
   "metadata": {
    "origin_pos": 0
   },
   "source": [
    "### About This Book"
   ]
  },
  {
   "cell_type": "markdown",
   "metadata": {
    "origin_pos": 0
   },
   "source": [
    "This book represents our attempt to make deep learning approachable,\n",
    "teaching you the *concepts*, the *context*, and the *code*."
   ]
  },
  {
   "cell_type": "markdown",
   "metadata": {
    "origin_pos": 0
   },
   "source": [
    "### One Medium Combining Code, Math, and HTML"
   ]
  },
  {
   "cell_type": "markdown",
   "metadata": {
    "origin_pos": 0
   },
   "source": [
    "For any computing technology to reach its full impact,\n",
    "it must be well-understood, well-documented, and supported by\n",
    "mature, well-maintained tools.\n",
    "The key ideas should be clearly distilled,\n",
    "minimizing the onboarding time needing to bring new practitioners up to date.\n",
    "Mature libraries should automate common tasks,\n",
    "and exemplar code should make it easy for practitioners\n",
    "to modify, apply, and extend common applications to suit their needs.\n",
    "Take dynamic web applications as an example.\n",
    "Despite a large number of companies, like Amazon,\n",
    "developing successful database-driven web applications in the 1990s,\n",
    "the potential of this technology to aid creative entrepreneurs\n",
    "has been realized to a far greater degree in the past ten years,\n",
    "owing in part to the development of powerful, well-documented frameworks."
   ]
  },
  {
   "cell_type": "markdown",
   "metadata": {
    "origin_pos": 0
   },
   "source": [
    "Testing the potential of deep learning presents unique challenges\n",
    "because any single application brings together various disciplines.\n",
    "Applying deep learning requires simultaneously understanding\n",
    "(i) the motivations for casting a problem in a particular way;\n",
    "(ii) the mathematics of a given modeling approach;\n",
    "(iii) the optimization algorithms for fitting the models to data;\n",
    "and (iv) and the engineering required to train models efficiently,\n",
    "navigating the pitfalls of numerical computing\n",
    "and getting the most out of available hardware.\n",
    "Teaching both the critical thinking skills required to formulate problems,\n",
    "the mathematics to solve them, and the software tools to implement those\n",
    "solutions all in one place presents formidable challenges.\n",
    "Our goal in this book is to present a unified resource\n",
    "to bring would-be practitioners up to speed."
   ]
  },
  {
   "cell_type": "markdown",
   "metadata": {
    "origin_pos": 0
   },
   "source": [
    "At the time we started this book project,\n",
    "there were no resources that simultaneously\n",
    "(i) were up to date; (ii) covered the full breadth\n",
    "of modern machine learning with substantial technical depth;\n",
    "and (iii) interleaved exposition of the quality one expects\n",
    "from an engaging textbook with the clean runnable code\n",
    "that one expects to find in hands-on tutorials.\n",
    "We found plenty of code examples for\n",
    "how to use a given deep learning framework\n",
    "(e.g., how to do basic numerical computing with matrices in TensorFlow)\n",
    "or for implementing particular techniques\n",
    "(e.g., code snippets for LeNet, AlexNet, ResNets, etc)\n",
    "scattered across various blog posts and GitHub repositories.\n",
    "However, these examples typically focused on\n",
    "*how* to implement a given approach,\n",
    "but left out the discussion of *why* certain algorithmic decisions are made.\n",
    "While some interactive resources have popped up sporadically\n",
    "to address a particular topic, e.g., the engaging blog posts\n",
    "published on the website [Distill](http://distill.pub), or personal blogs,\n",
    "they only covered selected topics in deep learning,\n",
    "and often lacked associated code.\n",
    "On the other hand, while several textbooks have emerged,\n",
    "most notably [Goodfellow.Bengio.Courville.2016](http://www.deeplearningbook.org/),\n",
    "which offers a comprehensive survey of the concepts behind deep learning,\n",
    "these resources do not marry the descriptions\n",
    "to realizations of the concepts in code,\n",
    "sometimes leaving readers clueless as to how to implement them.\n",
    "Moreover, too many resources are hidden behind the paywalls\n",
    "of commercial course providers."
   ]
  },
  {
   "cell_type": "markdown",
   "metadata": {
    "origin_pos": 0
   },
   "source": [
    "We set out to create a resource that could\n",
    "(i) be freely available for everyone;\n",
    "(ii) offer sufficient technical depth to provide a starting point on the path\n",
    "to actually becoming an applied machine learning scientist;\n",
    "(iii) include runnable code, showing readers *how* to solve problems in practice;\n",
    "(iv) allow for rapid updates, both by us\n",
    "and also by the community at large;\n",
    "and (v) be complemented by a [forum](http://discuss.d2l.ai)\n",
    "for interactive discussion of technical details and to answer questions."
   ]
  },
  {
   "cell_type": "markdown",
   "metadata": {
    "origin_pos": 0
   },
   "source": [
    "These goals were often in conflict.\n",
    "Equations, theorems, and citations are best managed and laid out in LaTeX.\n",
    "Code is best described in Python.\n",
    "And webpages are native in HTML and JavaScript.\n",
    "Furthermore, we want the content to be\n",
    "accessible both as executable code, as a physical book,\n",
    "as a downloadable PDF, and on the Internet as a website.\n",
    "At present there exist no tools and no workflow\n",
    "perfectly suited to these demands, so we had to assemble our own.\n",
    "We settled on GitHub to share the source and to allow for edits,\n",
    "Jupyter notebooks for mixing code, equations and text,\n",
    "Sphinx as a rendering engine to generate multiple outputs,\n",
    "and Discourse for the forum.\n",
    "While our system is not yet perfect,\n",
    "these choices provide a good compromise among the competing concerns.\n",
    "We believe that this might be the first book published\n",
    "using such an integrated workflow."
   ]
  },
  {
   "cell_type": "markdown",
   "metadata": {
    "origin_pos": 0
   },
   "source": [
    "### Learning by Doing"
   ]
  },
  {
   "cell_type": "markdown",
   "metadata": {
    "origin_pos": 0
   },
   "source": [
    "Many textbooks teach a series of topics, each in exhaustive detail.\n",
    "For example, Chris Bishop's excellent textbook :[Bishop.2006](https://cds.cern.ch/record/998831),\n",
    "teaches each topic so thoroughly, that getting to the chapter\n",
    "on linear regression requires a non-trivial amount of work.\n",
    "While experts love this book precisely for its thoroughness,\n",
    "for beginners, this property limits its usefulness as an introductory text."
   ]
  },
  {
   "cell_type": "markdown",
   "metadata": {
    "origin_pos": 0
   },
   "source": [
    "In this book, we will teach most concepts *just in time*.\n",
    "In other words, you will learn concepts at the very moment\n",
    "that they are needed to accomplish some practical end.\n",
    "While we take some time at the outset to teach\n",
    "fundamental preliminaries, like linear algebra and probability,\n",
    "we want you to taste the satisfaction of training your first model\n",
    "before worrying about more esoteric probability distributions."
   ]
  },
  {
   "cell_type": "markdown",
   "metadata": {
    "origin_pos": 0
   },
   "source": [
    "Aside from a few preliminary notebooks that provide a crash course\n",
    "in the basic mathematical background,\n",
    "each subsequent chapter introduces both a reasonable number of new concepts\n",
    "and provides single self-contained working examples---using real datasets.\n",
    "This presents an organizational challenge.\n",
    "Some models might logically be grouped together in a single notebook.\n",
    "And some ideas might be best taught by executing several models in succession.\n",
    "On the other hand, there is a big advantage to adhering\n",
    "to a policy of *1 working example, 1 notebook*:\n",
    "This makes it as easy as possible for you to\n",
    "start your own research projects by leveraging our code.\n",
    "Just copy a notebook and start modifying it."
   ]
  },
  {
   "cell_type": "markdown",
   "metadata": {
    "origin_pos": 0
   },
   "source": [
    "We will interleave the runnable code with background material as needed.\n",
    "In general, we will often err on the side of making tools\n",
    "available before explaining them fully (and we will follow up by\n",
    "explaining the background later).\n",
    "For instance, we might use *stochastic gradient descent*\n",
    "before fully explaining why it is useful or why it works.\n",
    "This helps to give practitioners the necessary\n",
    "ammunition to solve problems quickly,\n",
    "at the expense of requiring the reader\n",
    "to trust us with some curatorial decisions."
   ]
  },
  {
   "cell_type": "markdown",
   "metadata": {
    "origin_pos": 0
   },
   "source": [
    "This book will teach deep learning concepts from scratch.\n",
    "Sometimes, we want to delve into fine details about the models\n",
    "that would typically be hidden from the user\n",
    "by deep learning frameworks' advanced abstractions.\n",
    "This comes up especially in the basic tutorials,\n",
    "where we want you to understand everything\n",
    "that happens in a given layer or optimizer.\n",
    "In these cases, we will often present two versions of the example:\n",
    "one where we implement everything from scratch,\n",
    "relying only on the NumPy interface and automatic differentiation,\n",
    "and another, more practical example,\n",
    "where we write succinct code using Gluon.\n",
    "Once we have taught you how some component works,\n",
    "we can just use the Gluon version in subsequent tutorials."
   ]
  },
  {
   "cell_type": "markdown",
   "metadata": {
    "origin_pos": 0
   },
   "source": [
    "### Content and Structure"
   ]
  },
  {
   "cell_type": "markdown",
   "metadata": {
    "origin_pos": 0
   },
   "source": [
    "The book can be roughly divided into three parts,\n",
    "which are presented by different colors in the following figure:"
   ]
  },
  {
   "cell_type": "markdown",
   "metadata": {
    "origin_pos": 0
   },
   "source": [
    "![Book structure](https://doc.shiyanlou.com/courses/2777/246442/56c34015391100a60aa0ebca9345a10a-1)"
   ]
  },
  {
   "cell_type": "markdown",
   "metadata": {
    "origin_pos": 0
   },
   "source": [
    "* The first part covers basics and preliminaries.\n",
    "`Section 1` offers an introduction to deep learning.\n",
    "Then, in `Section 2`, we quickly bring you up to speed on the prerequisites required\n",
    "for hands-on deep learning, such as how to store and manipulate data,\n",
    "and how to apply various numerical operations based on basic concepts\n",
    "from linear algebra, calculus, and probability.\n",
    "`Section 3` and `Section 4` cover the most basic concepts and techniques of deep learning,\n",
    "such as linear regression, multilayer perceptrons and regularization."
   ]
  },
  {
   "cell_type": "markdown",
   "metadata": {
    "origin_pos": 0
   },
   "source": [
    "* The next five chapters focus on modern deep learning techniques.\n",
    "`Section 5` describes the various key components of deep learning calculations and lays the groundwork\n",
    "for us to subsequently implement more complex models.\n",
    "Next, in `Section 6` and `Section 7`, we introduce convolutional neural networks (CNNs), powerful tools\n",
    "that form the backbone of most modern computer vision systems.\n",
    "Subsequently, in `Section 8` and `Section 9`, we introduce\n",
    "recurrent neural networks (RNNs), models that exploit\n",
    "temporal or sequential structure in data, and are commonly used\n",
    "for natural language processing and time series prediction.\n",
    "In `Section 10`, we introduce a new class of models\n",
    "that employ a technique called attention mechanisms\n",
    "and they have recently begun to displace RNNs in natural language processing.\n",
    "These sections will get you up to speed on the basic tools\n",
    "behind most modern applications of deep learning."
   ]
  },
  {
   "cell_type": "markdown",
   "metadata": {
    "origin_pos": 0
   },
   "source": [
    "* Part three discusses scalability, efficiency, and applications.\n",
    "First, in `Section 11`,\n",
    "we discuss several common optimization algorithms\n",
    "used to train deep learning models.\n",
    "The next chapter, `Section 12` examines several key factors\n",
    "that influence the computational performance of your deep learning code.\n",
    "In `Section 13`, we illustrate major applications of deep learning in computer vision.\n",
    "In `Section 14` and `Section 15`,\n",
    "we show how to pretrain language representation models and apply\n",
    "them to natural language processing tasks."
   ]
  },
  {
   "cell_type": "markdown",
   "metadata": {
    "origin_pos": 0
   },
   "source": [
    "### Code"
   ]
  },
  {
   "cell_type": "markdown",
   "metadata": {
    "origin_pos": 0
   },
   "source": [
    "Most sections of this book feature executable code because of our belief\n",
    "in the importance of an interactive learning experience in deep learning.\n",
    "At present, certain intuitions can only be developed through trial and error,\n",
    "tweaking the code in small ways and observing the results.\n",
    "Ideally, an elegant mathematical theory might tell us\n",
    "precisely how to tweak our code to achieve a desired result.\n",
    "Unfortunately, at present, such elegant theories elude us.\n",
    "Despite our best attempts, formal explanations for various techniques\n",
    "are still lacking, both because the mathematics to characterize these models\n",
    "can be so difficult and also because serious inquiry on these topics\n",
    "has only just recently kicked into high gear.\n",
    "We are hopeful that as the theory of deep learning progresses,\n",
    "future editions of this book will be able to provide insights\n",
    "in places the present edition cannot."
   ]
  },
  {
   "cell_type": "markdown",
   "metadata": {
    "origin_pos": 3,
    "tab": [
     "pytorch"
    ]
   },
   "source": [
    "Most of the code in this book is based on PyTorch.\n",
    "PyTorch is an open-source framework for deep learning, which is extremely\n",
    "popular in the research community.\n",
    "All of the code in this book has passed tests under the the newest PyTorch.\n",
    "However, due to the rapid development of deep learning, some code\n",
    "*in the print edition* may not work properly in future versions of PyTorch.\n",
    "However, we plan to keep the online version up-to-date."
   ]
  },
  {
   "cell_type": "markdown",
   "metadata": {
    "origin_pos": 3,
    "tab": [
     "pytorch"
    ]
   },
   "source": [
    "Here is how we import modules from PyTorch."
   ]
  },
  {
   "cell_type": "markdown",
   "metadata": {},
   "source": [
    "<i class=\"fa fa-arrow-circle-down\" aria-hidden=\"true\"> 教学代码：</i>"
   ]
  },
  {
   "cell_type": "code",
   "execution_count": null,
   "metadata": {
    "attributes": {
     "classes": [],
     "id": "",
     "n": "1"
    },
    "origin_pos": 6,
    "tab": [
     "pytorch"
    ]
   },
   "outputs": [],
   "source": [
    "import numpy as np\n",
    "import torch\n",
    "import torchvision\n",
    "from torch import nn\n",
    "from torch.nn import functional as F\n",
    "from torch.utils import data\n",
    "from torchvision import transforms"
   ]
  },
  {
   "cell_type": "markdown",
   "metadata": {},
   "source": [
    "<i class=\"fa fa-arrow-circle-down\" aria-hidden=\"true\"> 动手练习</i>｜如果你对课程所使用的实验楼 Notebook 在线环境并不熟悉，可以先学习 [<i class=\"fa fa-external-link-square\" aria-hidden=\"true\"> 使用指南课程</i>](https://www.lanqiao.cn/courses/1322)。"
   ]
  },
  {
   "cell_type": "code",
   "execution_count": null,
   "metadata": {},
   "outputs": [],
   "source": []
  },
  {
   "cell_type": "markdown",
   "metadata": {
    "origin_pos": 8
   },
   "source": [
    "### Target Audience"
   ]
  },
  {
   "cell_type": "markdown",
   "metadata": {
    "origin_pos": 8
   },
   "source": [
    "This book is for students (undergraduate or graduate),\n",
    "engineers, and researchers, who seek a solid grasp\n",
    "of the practical techniques of deep learning.\n",
    "Because we explain every concept from scratch,\n",
    "no previous background in deep learning or machine learning is required.\n",
    "Fully explaining the methods of deep learning\n",
    "requires some mathematics and programming,\n",
    "but we will only assume that you come in with some basics,\n",
    "including (the very basics of) linear algebra, calculus, probability,\n",
    "and Python programming.\n",
    "Moreover, in the Appendix, we provide a refresher\n",
    "on most of the mathematics covered in this book.\n",
    "Most of the time, we will prioritize intuition and ideas\n",
    "over mathematical rigor.\n",
    "There are many terrific books which can lead the interested reader further.\n",
    "For instance, Linear Analysis by Bela Bollobas\n",
    "covers linear algebra and functional analysis in great depth.\n",
    "All of Statistics by Wasserman is a terrific guide to statistics.\n",
    "And if you have not used Python before,\n",
    "you may want to peruse this [Python tutorial](http://learnpython.org/)."
   ]
  },
  {
   "cell_type": "markdown",
   "metadata": {
    "origin_pos": 8
   },
   "source": [
    "### Forum"
   ]
  },
  {
   "cell_type": "markdown",
   "metadata": {
    "origin_pos": 8
   },
   "source": [
    "Associated with this book, we have launched a discussion forum,\n",
    "located at [discuss.d2l.ai](https://discuss.d2l.ai/).\n",
    "When you have questions on any section of the book,\n",
    "you can find the associated discussion page link at the end of each chapter."
   ]
  },
  {
   "cell_type": "markdown",
   "metadata": {
    "origin_pos": 8
   },
   "source": [
    "### Acknowledgments"
   ]
  },
  {
   "cell_type": "markdown",
   "metadata": {
    "origin_pos": 8
   },
   "source": [
    "We are indebted to the hundreds of contributors for both\n",
    "the English and the Chinese drafts.\n",
    "They helped improve the content and offered valuable feedback.\n",
    "Specifically, we thank every contributor of this English draft\n",
    "for making it better for everyone.\n",
    "Their GitHub IDs or names are (in no particular order):\n",
    "alxnorden, avinashingit, bowen0701, brettkoonce, Chaitanya Prakash Bapat,\n",
    "cryptonaut, Davide Fiocco, edgarroman, gkutiel, John Mitro, Liang Pu,\n",
    "Rahul Agarwal, Mohamed Ali Jamaoui, Michael (Stu) Stewart, Mike Müller,\n",
    "NRauschmayr, Prakhar Srivastav, sad-, sfermigier, Sheng Zha, sundeepteki,\n",
    "topecongiro, tpdi, vermicelli, Vishaal Kapoor, Vishwesh Ravi Shrimali, YaYaB, Yuhong Chen,\n",
    "Evgeniy Smirnov, lgov, Simon Corston-Oliver, Igor Dzreyev, Ha Nguyen, pmuens,\n",
    "Andrei Lukovenko, senorcinco, vfdev-5, dsweet, Mohammad Mahdi Rahimi, Abhishek Gupta,\n",
    "uwsd, DomKM, Lisa Oakley, Bowen Li, Aarush Ahuja, Prasanth Buddareddygari, brianhendee,\n",
    "mani2106, mtn, lkevinzc, caojilin, Lakshya, Fiete Lüer, Surbhi Vijayvargeeya,\n",
    "Muhyun Kim, dennismalmgren, adursun, Anirudh Dagar, liqingnz, Pedro Larroy,\n",
    "lgov, ati-ozgur, Jun Wu, Matthias Blume, Lin Yuan, geogunow, Josh Gardner,\n",
    "Maximilian Böther, Rakib Islam, Leonard Lausen, Abhinav Upadhyay, rongruosong,\n",
    "Steve Sedlmeyer, ruslo, Rafael Schlatter, liusy182, Giannis Pappas, ruslo,\n",
    "ati-ozgur, qbaza, dchoi77, Adam Gerson, Phuc Le, Mark Atwood, christabella, vn09,\n",
    "Haibin Lin, jjangga0214, RichyChen, noelo, hansent, Giel Dops, dvincent1337, WhiteD3vil,\n",
    "Peter Kulits, codypenta, joseppinilla, ahmaurya, karolszk, heytitle, Peter Goetz, rigtorp,\n",
    "tiepvupsu, sfilip, mlxd, Kale-ab Tessera, Sanjar Adilov, MatteoFerrara, hsneto,\n",
    "Katarzyna Biesialska, Gregory Bruss, duythanhvn, paulaurel, graytowne, minhduc0711,\n",
    "sl7423, Jaedong Hwang, Yida Wang, cys4, clhm, Jean Kaddour, austinmw, trebeljahr, tbaums,\n",
    "cuongvng, pavelkomarov, vzlamal, NotAnotherSystem, J-Arun-Mani, jancio, eldarkurtic,\n",
    "the-great-shazbot, doctorcolossus, gducharme, cclauss, Daniel-Mietchen, hoonose, biagiom,\n",
    "abhinavsp0730, jonathanhrandall, ysraell, Nodar Okroshiashvili, UgurKap, Jiyang Kang,\n",
    "StevenJokes, Tomer Kaftan, liweiwp."
   ]
  },
  {
   "cell_type": "markdown",
   "metadata": {
    "origin_pos": 8
   },
   "source": [
    "We thank Amazon Web Services, especially Swami Sivasubramanian,\n",
    "Raju Gulabani, Charlie Bell, and Andrew Jassy for their generous support in writing this book. Without the available time, resources, discussions with colleagues, and continuous encouragement this book would not have happened."
   ]
  },
  {
   "cell_type": "markdown",
   "metadata": {
    "origin_pos": 8
   },
   "source": [
    "### Summary"
   ]
  },
  {
   "cell_type": "markdown",
   "metadata": {
    "origin_pos": 8
   },
   "source": [
    "* Deep learning has revolutionized pattern recognition, introducing technology that now powers a wide range of  technologies, including computer vision, natural language processing, automatic speech recognition.\n",
    "* To successfully apply deep learning, you must understand how to cast a problem, the mathematics of modeling, the algorithms for fitting your models to data, and the engineering techniques to implement it all.\n",
    "* This book presents a comprehensive resource, including prose, figures, mathematics, and code, all in one place.\n",
    "* To answer questions related to this book, visit our forum at https://discuss.d2l.ai/.\n",
    "* All notebooks are available for download on GitHub."
   ]
  },
  {
   "cell_type": "markdown",
   "metadata": {
    "origin_pos": 8
   },
   "source": [
    "### Exercises"
   ]
  },
  {
   "cell_type": "markdown",
   "metadata": {
    "origin_pos": 8
   },
   "source": [
    "1. Register an account on the discussion forum of this book [discuss.d2l.ai](https://discuss.d2l.ai/).\n",
    "1. Install Python on your computer.\n",
    "1. Follow the links at the bottom of the section to the forum, where you will be able to seek out help and discuss the book and find answers to your questions by engaging the authors and broader community."
   ]
  },
  {
   "cell_type": "markdown",
   "metadata": {
    "origin_pos": 10,
    "tab": [
     "pytorch"
    ]
   },
   "source": [
    "[Discussions](https://discuss.d2l.ai/t/20)\n"
   ]
  }
 ],
 "metadata": {
  "kernelspec": {
   "display_name": "Python 3",
   "language": "python",
   "name": "python3"
  },
  "language_info": {
   "codemirror_mode": {
    "name": "ipython",
    "version": 3
   },
   "file_extension": ".py",
   "mimetype": "text/x-python",
   "name": "python",
   "nbconvert_exporter": "python",
   "pygments_lexer": "ipython3",
   "version": "3.7.1"
  }
 },
 "nbformat": 4,
 "nbformat_minor": 4
}
